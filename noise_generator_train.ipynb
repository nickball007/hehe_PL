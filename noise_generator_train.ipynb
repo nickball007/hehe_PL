{
 "cells": [
  {
   "cell_type": "code",
   "execution_count": 4,
   "metadata": {},
   "outputs": [],
   "source": [
    "import numpy as np\n",
    "import cv2\n",
    "import matplotlib.image as mpimg\n",
    "import matplotlib.pyplot as plt\n",
    "from random import randint\n",
    "import random"
   ]
  },
  {
   "cell_type": "code",
   "execution_count": 5,
   "metadata": {},
   "outputs": [],
   "source": [
    "img_height = 1216\n",
    "img_width = 608\n",
    "min_noise = 50\n",
    "max_noise = 150\n",
    "min_radius = 1\n",
    "max_radius = 10\n",
    "num_channels = 3\n",
    "img_shape = (img_height, img_width, num_channels)\n",
    "num_classes = 1"
   ]
  },
  {
   "cell_type": "code",
   "execution_count": 6,
   "metadata": {},
   "outputs": [
    {
     "data": {
      "text/plain": [
       "(1216, 608, 3)"
      ]
     },
     "execution_count": 6,
     "metadata": {},
     "output_type": "execute_result"
    }
   ],
   "source": [
    "img_shape"
   ]
  },
  {
   "cell_type": "code",
   "execution_count": 7,
   "metadata": {},
   "outputs": [
    {
     "data": {
      "text/plain": [
       "(1216, 608, 3)"
      ]
     },
     "execution_count": 7,
     "metadata": {},
     "output_type": "execute_result"
    }
   ],
   "source": [
    "np.zeros([img_height, img_width,3]).shape"
   ]
  },
  {
   "cell_type": "code",
   "execution_count": 8,
   "metadata": {},
   "outputs": [],
   "source": [
    "class draw_circle_by_opencv:\n",
    "    def draw_circle_on_image(img_height, img_width, min_noise, max_noise, min_radius, max_radius):\n",
    "        image = np.zeros([img_height, img_width,num_channels])\n",
    "        background_color = random.uniform(0.2,1)\n",
    "        image[:,:] = (background_color,background_color ,background_color)\n",
    "        \n",
    "        for _ in range(min_noise, max_noise):\n",
    "            radius = randint(min_radius, max_radius)\n",
    "            x = randint(0, img_width)\n",
    "            y = randint(0, img_height)\n",
    "            cv2.circle(image,(x, y), radius, (0,0,0), -1) # -1 means fill up\n",
    "        \n",
    "        return(image)"
   ]
  },
  {
   "cell_type": "code",
   "execution_count": 9,
   "metadata": {},
   "outputs": [],
   "source": [
    "#from skimage.io import imread\n",
    "def get_input():\n",
    "    \n",
    "    img = draw_circle_by_opencv.draw_circle_on_image(img_height, img_width, min_noise, max_noise, min_radius, max_radius) \n",
    "    \n",
    "    return(img)"
   ]
  },
  {
   "cell_type": "code",
   "execution_count": 7,
   "metadata": {},
   "outputs": [],
   "source": [
    "from numpy import zeros, newaxis"
   ]
  },
  {
   "cell_type": "code",
   "execution_count": 1,
   "metadata": {},
   "outputs": [],
   "source": [
    "from itertools import combinations\n",
    "aa=[itm for itm in combinations(range(0,50),7)]"
   ]
  },
  {
   "cell_type": "code",
   "execution_count": 2,
   "metadata": {},
   "outputs": [],
   "source": [
    "import pandas as pd"
   ]
  },
  {
   "cell_type": "code",
   "execution_count": 4,
   "metadata": {},
   "outputs": [],
   "source": [
    "x = pd.DataFrame(aa)"
   ]
  },
  {
   "cell_type": "code",
   "execution_count": 5,
   "metadata": {},
   "outputs": [
    {
     "data": {
      "text/html": [
       "<div>\n",
       "<style scoped>\n",
       "    .dataframe tbody tr th:only-of-type {\n",
       "        vertical-align: middle;\n",
       "    }\n",
       "\n",
       "    .dataframe tbody tr th {\n",
       "        vertical-align: top;\n",
       "    }\n",
       "\n",
       "    .dataframe thead th {\n",
       "        text-align: right;\n",
       "    }\n",
       "</style>\n",
       "<table border=\"1\" class=\"dataframe\">\n",
       "  <thead>\n",
       "    <tr style=\"text-align: right;\">\n",
       "      <th></th>\n",
       "      <th>0</th>\n",
       "      <th>1</th>\n",
       "      <th>2</th>\n",
       "      <th>3</th>\n",
       "      <th>4</th>\n",
       "      <th>5</th>\n",
       "      <th>6</th>\n",
       "    </tr>\n",
       "  </thead>\n",
       "  <tbody>\n",
       "    <tr>\n",
       "      <th>0</th>\n",
       "      <td>0</td>\n",
       "      <td>1</td>\n",
       "      <td>2</td>\n",
       "      <td>3</td>\n",
       "      <td>4</td>\n",
       "      <td>5</td>\n",
       "      <td>6</td>\n",
       "    </tr>\n",
       "    <tr>\n",
       "      <th>1</th>\n",
       "      <td>0</td>\n",
       "      <td>1</td>\n",
       "      <td>2</td>\n",
       "      <td>3</td>\n",
       "      <td>4</td>\n",
       "      <td>5</td>\n",
       "      <td>7</td>\n",
       "    </tr>\n",
       "    <tr>\n",
       "      <th>2</th>\n",
       "      <td>0</td>\n",
       "      <td>1</td>\n",
       "      <td>2</td>\n",
       "      <td>3</td>\n",
       "      <td>4</td>\n",
       "      <td>5</td>\n",
       "      <td>8</td>\n",
       "    </tr>\n",
       "    <tr>\n",
       "      <th>3</th>\n",
       "      <td>0</td>\n",
       "      <td>1</td>\n",
       "      <td>2</td>\n",
       "      <td>3</td>\n",
       "      <td>4</td>\n",
       "      <td>5</td>\n",
       "      <td>9</td>\n",
       "    </tr>\n",
       "    <tr>\n",
       "      <th>4</th>\n",
       "      <td>0</td>\n",
       "      <td>1</td>\n",
       "      <td>2</td>\n",
       "      <td>3</td>\n",
       "      <td>4</td>\n",
       "      <td>5</td>\n",
       "      <td>10</td>\n",
       "    </tr>\n",
       "  </tbody>\n",
       "</table>\n",
       "</div>"
      ],
      "text/plain": [
       "   0  1  2  3  4  5   6\n",
       "0  0  1  2  3  4  5   6\n",
       "1  0  1  2  3  4  5   7\n",
       "2  0  1  2  3  4  5   8\n",
       "3  0  1  2  3  4  5   9\n",
       "4  0  1  2  3  4  5  10"
      ]
     },
     "execution_count": 5,
     "metadata": {},
     "output_type": "execute_result"
    }
   ],
   "source": [
    "x.head()"
   ]
  },
  {
   "cell_type": "code",
   "execution_count": 8,
   "metadata": {},
   "outputs": [],
   "source": [
    "def get_output(y):\n",
    "    x = np.copy(y)\n",
    "    x[:] = y[:]\n",
    "    x[x[:,:] == 0] = 1\n",
    "    x[x[:,:] != 1] = 0    \n",
    "    x = np.multiply.reduce(x,2)\n",
    "    x = x[:, :, newaxis]\n",
    "    return(x)"
   ]
  },
  {
   "cell_type": "code",
   "execution_count": 9,
   "metadata": {},
   "outputs": [],
   "source": [
    "x = get_input()"
   ]
  },
  {
   "cell_type": "code",
   "execution_count": 10,
   "metadata": {},
   "outputs": [
    {
     "data": {
      "text/plain": [
       "(1216, 608, 3)"
      ]
     },
     "execution_count": 10,
     "metadata": {},
     "output_type": "execute_result"
    }
   ],
   "source": [
    "x.shape"
   ]
  },
  {
   "cell_type": "code",
   "execution_count": 11,
   "metadata": {},
   "outputs": [
    {
     "data": {
      "text/plain": [
       "<matplotlib.image.AxesImage at 0x7f5f69a657f0>"
      ]
     },
     "execution_count": 11,
     "metadata": {},
     "output_type": "execute_result"
    },
    {
     "data": {
      "image/png": "[encoded data removed]",
      "text/plain": [
       "<Figure size 432x288 with 1 Axes>"
      ]
     },
     "metadata": {
      "needs_background": "light"
     },
     "output_type": "display_data"
    }
   ],
   "source": [
    "plt.imshow(x, cmap='gray')"
   ]
  },
  {
   "cell_type": "code",
   "execution_count": 12,
   "metadata": {},
   "outputs": [],
   "source": [
    "plt.imsave(\"test.png\", x, cmap='gray')"
   ]
  },
  {
   "cell_type": "code",
   "execution_count": 13,
   "metadata": {},
   "outputs": [],
   "source": [
    "y = get_output(x)"
   ]
  },
  {
   "cell_type": "code",
   "execution_count": 14,
   "metadata": {
    "scrolled": true
   },
   "outputs": [
    {
     "data": {
      "text/plain": [
       "(1216, 608, 1)"
      ]
     },
     "execution_count": 14,
     "metadata": {},
     "output_type": "execute_result"
    }
   ],
   "source": [
    "y.shape"
   ]
  },
  {
   "cell_type": "code",
   "execution_count": 15,
   "metadata": {},
   "outputs": [],
   "source": [
    "# def preprocess_input(image):\n",
    "    \n",
    "#     --- Rescale Image\n",
    "#     --- Rotate Image\n",
    "#     --- Resize Image\n",
    "#     --- Flip Image\n",
    "#     --- PCA etc.\n",
    "    \n",
    "#     return(image)"
   ]
  },
  {
   "cell_type": "code",
   "execution_count": 16,
   "metadata": {},
   "outputs": [],
   "source": [
    "def image_generator(batch_size = 4):\n",
    "    \n",
    "    while True:\n",
    "        # Select files (paths/indices) for the batch\n",
    "\n",
    "        batch_input = []\n",
    "        batch_output = [] \n",
    "          \n",
    "        # Read in each input, perform preprocessing and get labels\n",
    "        for _ in range(batch_size):\n",
    "            input_ = get_input()\n",
    "            output = get_output(input_)\n",
    "            \n",
    "            #input = preprocess_input(image=input)\n",
    "            batch_input.append(input_)\n",
    "            batch_output.append(output)\n",
    "        # Return a tuple of (input,output) to feed the network\n",
    "        batch_x = np.array( batch_input )\n",
    "        batch_y = np.array( batch_output )\n",
    "        \n",
    "        yield( batch_x, batch_y )"
   ]
  },
  {
   "cell_type": "markdown",
   "metadata": {},
   "source": [
    "construct UNet"
   ]
  },
  {
   "cell_type": "code",
   "execution_count": 17,
   "metadata": {},
   "outputs": [
    {
     "name": "stderr",
     "output_type": "stream",
     "text": [
      "Using TensorFlow backend.\n"
     ]
    }
   ],
   "source": [
    "from keras import regularizers\n",
    "from keras.layers import BatchNormalization as BatchNorm\n",
    "from keras.models import Model, load_model\n",
    "from keras.layers import Input, Reshape, Activation\n",
    "from keras.layers.core import Lambda\n",
    "from keras.layers.convolutional import Conv2D, Conv2DTranspose, UpSampling2D\n",
    "from keras.layers.pooling import MaxPooling2D\n",
    "from keras.layers.merge import Concatenate\n",
    "from keras.callbacks import EarlyStopping, ModelCheckpoint, ReduceLROnPlateau\n",
    "from keras import backend as K\n",
    "from keras import layers"
   ]
  },
  {
   "cell_type": "code",
   "execution_count": 18,
   "metadata": {},
   "outputs": [],
   "source": [
    "def downsampling(x, level, filters, kernel_size, num_convs, conv_strides=1, activation = 'relu', batch_norm = False, pool_size = 2, pool_strides = 2, regularizer = None, regularizer_param = 0.001):\n",
    "    if regularizer is not None:\n",
    "        if regularizer == 'l2':\n",
    "            reg = regularizers.l2(regularizer_param)\n",
    "        elif regularizer == 'l1':\n",
    "            reg = regularizers.l1(regularizer_param)\n",
    "    else:\n",
    "        reg = None\n",
    "    for i in range(num_convs):\n",
    "        x = Conv2D(filters=filters, kernel_size=kernel_size, strides=conv_strides, padding='same', kernel_regularizer=reg, bias_regularizer=reg, name = 'downsampling_' + str(level) + '_conv_' + str(i))(x)\n",
    "        if batch_norm:\n",
    "            x = BatchNorm(name = 'downsampling_' + str(level) + '_batchnorm_' + str(i))(x)\n",
    "        x = Activation(activation, name = 'downsampling_' + str(level) + '_activation_' + str(i))(x)\n",
    "    skip = x\n",
    "    x = MaxPooling2D(pool_size=2, strides=2)(x)\n",
    "    return x, skip\n",
    "\n",
    "def bottleneck_dilated(x, filters, kernel_size, num_convs = 6, activation = 'relu', batch_norm = False, last_activation = False, regularizer = None, regularizer_param = 0.001):\n",
    "#     assert num_convs == len(conv_strides)\n",
    "    if regularizer is not None:\n",
    "        if regularizer == 'l2':\n",
    "            reg = regularizers.l2(regularizer_param)\n",
    "        elif regularizer == 'l1':\n",
    "            reg = regularizers.l1(regularizer_param)\n",
    "    else:\n",
    "        reg = None\n",
    "    skips = []\n",
    "    for i in range(num_convs):\n",
    "        x = Conv2D(filters=filters, kernel_size=kernel_size, strides=1, dilation_rate = 2 ** i, activation='relu', padding='same', kernel_regularizer=reg, bias_regularizer=reg, name = 'bottleneck_skip_' + str(i))(x)\n",
    "        skips.append(x)\n",
    "    x = layers.add(skips)\n",
    "    if last_activation:\n",
    "        x = Activation('relu')(x)\n",
    "    return x\n",
    "    \n",
    "def bottleneck(x, filters, kernel_size, num_convs, conv_strides=1, activation = 'relu', batch_norm = False, pool_size = 2, pool_strides = 2, regularizer = None, regularizer_param = 0.001):\n",
    "    if regularizer is not None:\n",
    "        if regularizer == 'l2':\n",
    "            reg = regularizers.l2(regularizer_param)\n",
    "        elif regularizer == 'l1':\n",
    "            reg = regularizers.l1(regularizer_param)\n",
    "    else:\n",
    "        reg = None\n",
    "    for i in range(num_convs):\n",
    "        x = Conv2D(filters=filters, kernel_size=3, strides=1, padding='same', kernel_regularizer=reg, bias_regularizer=reg, name = 'bottleneck_' + str(i))(x)\n",
    "        if batch_norm:\n",
    "            x = BatchNorm()(x)\n",
    "        x = Activation(activation)(x)\n",
    "    return x\n",
    "\n",
    "def upsampling(x, level, skip, filters, kernel_size, num_convs, conv_strides=1, activation = 'relu', batch_norm = False, conv_transpose = True, upsampling_size = 2, upsampling_strides = 2, regularizer = None, regularizer_param = 0.001):\n",
    "    if regularizer is not None:\n",
    "        if regularizer == 'l2':\n",
    "            reg = regularizers.l2(regularizer_param)\n",
    "        elif regularizer == 'l1':\n",
    "            reg = regularizers.l1(regularizer_param)\n",
    "    else:\n",
    "        reg = None\n",
    "    if conv_transpose:\n",
    "        x = Conv2DTranspose(filters=filters, kernel_size = upsampling_size, strides=upsampling_strides, name = 'upsampling_' + str(level) + '_conv_trans_' + str(level))(x)\n",
    "    else:\n",
    "        x = UpSampling2D((upsampling_size), name = 'upsampling_' + str(level) + '_ups_' + str(i))(x)\n",
    "    x = Concatenate()([x, skip])\n",
    "    for i in range(num_convs):\n",
    "        x = Conv2D(filters=filters, kernel_size=3, strides=1, padding='same', kernel_regularizer=reg, bias_regularizer=reg, name = 'upsampling_' + str(level) + '_conv_' + str(i))(x)\n",
    "        if batch_norm:\n",
    "            x = BatchNorm(name = 'upsampling_' + str(level) + '_batchnorm_' + str(i))(x)\n",
    "        x = Activation(activation, name = 'upsampling_' + str(level) + '_activation_' + str(i))(x)\n",
    "    return x\n",
    "\n",
    "def model_simple_unet_initializer(num_classes, num_levels, num_layers = 2, num_bottleneck = 2, filter_size_start = 16, batch_norm = False, kernel_size = 3, bottleneck_dilation = False, bottleneck_sum_activation = False, regularizer = None, regularizer_param = 0.001):\n",
    "    inputs = Input((img_shape))\n",
    "    x = inputs\n",
    "    skips = []\n",
    "    for i in range(num_levels):\n",
    "        x, skip = downsampling(x, i, filter_size_start * (2 ** i), kernel_size, num_layers, batch_norm=True, regularizer= regularizer, regularizer_param=regularizer_param)\n",
    "        skips.append(skip)\n",
    "    if bottleneck_dilation:\n",
    "        x = bottleneck_dilated(x, filter_size_start * (2 ** num_levels), kernel_size, num_bottleneck, batch_norm=True, last_activation=bottleneck_sum_activation, regularizer= regularizer, regularizer_param=regularizer_param)\n",
    "    else:\n",
    "        x = bottleneck(x, filter_size_start * (2 ** num_levels), kernel_size, num_bottleneck, batch_norm=True, regularizer=regularizer, regularizer_param=regularizer_param)\n",
    "    for j in range(num_levels):\n",
    "        x = upsampling(x, j, skips[num_levels - j - 1], filter_size_start * (2 ** (num_levels - j - 1)), kernel_size, num_layers, batch_norm=True, regularizer= regularizer, regularizer_param=regularizer_param)\n",
    "    outputs = Conv2D(filters=num_classes, kernel_size=1, strides=1, padding='same', activation='softmax', name = 'output_softmax')(x)\n",
    "    \n",
    "    model = Model(inputs = inputs, outputs = outputs)\n",
    "    model.compile(optimizer='adam', loss=jaccard_distance_loss, metrics=[dice_coef])\n",
    "    model.summary()\n",
    "    return model\n",
    "\n",
    "def model_train(model, x, y, epochs, num_test, early_stopper, patience_lr, model_name):\n",
    "    num_data = x.shape[0]\n",
    "    num_train = num_data - num_test\n",
    "    early_stopper = EarlyStopping(patience=early_stopper, verbose=1)\n",
    "    reduce_learning_rate = ReduceLROnPlateau(monitor='loss', factor = 0.75, patience = patience_lr, verbose=1)\n",
    "    checkpointer = ModelCheckpoint(model_name + '.h5', verbose=1, save_best_only=True)\n",
    "    checkpointer_train = ModelCheckpoint(model_name + 'best_train.h5', monitor='loss', verbose=1, save_best_only=True)\n",
    "    results = model.fit(x[0:num_train], y[0:num_train], validation_data=(x[num_train:], y[num_train:]), batch_size=5, epochs=epochs, callbacks=[early_stopper, checkpointer, checkpointer_train, reduce_learning_rate])\n",
    "    return model, results"
   ]
  },
  {
   "cell_type": "code",
   "execution_count": 19,
   "metadata": {},
   "outputs": [],
   "source": [
    "def jaccard_distance_loss(y_true, y_pred, smooth=100):\n",
    "    intersection = K.sum(K.abs(y_true * y_pred), axis=-1)\n",
    "    sum_ = K.sum(K.abs(y_true) + K.abs(y_pred), axis=-1)\n",
    "    jac = (intersection + smooth) / (sum_ - intersection + smooth)\n",
    "    loss = (1 - jac) * smooth\n",
    "#     print(loss.shape)\n",
    "#     print(loss)\n",
    "    return loss\n",
    "\n",
    "def dice_coef(y_true, y_pred, smooth=1):\n",
    "    intersection = K.sum(K.abs(y_true * y_pred), axis=-1)\n",
    "    return (2. * intersection + smooth) / (K.sum(K.square(y_true),-1) + K.sum(K.square(y_pred),-1) + smooth)"
   ]
  },
  {
   "cell_type": "code",
   "execution_count": 20,
   "metadata": {},
   "outputs": [
    {
     "name": "stdout",
     "output_type": "stream",
     "text": [
      "WARNING:tensorflow:From /home/chang_1909004/anaconda3/lib/python3.7/site-packages/tensorflow/python/framework/op_def_library.py:263: colocate_with (from tensorflow.python.framework.ops) is deprecated and will be removed in a future version.\n",
      "Instructions for updating:\n",
      "Colocations handled automatically by placer.\n",
      "__________________________________________________________________________________________________\n",
      "Layer (type)                    Output Shape         Param #     Connected to                     \n",
      "==================================================================================================\n",
      "input_1 (InputLayer)            (None, 1216, 608, 3) 0                                            \n",
      "__________________________________________________________________________________________________\n",
      "downsampling_0_conv_0 (Conv2D)  (None, 1216, 608, 16 448         input_1[0][0]                    \n",
      "__________________________________________________________________________________________________\n",
      "downsampling_0_batchnorm_0 (Bat (None, 1216, 608, 16 64          downsampling_0_conv_0[0][0]      \n",
      "__________________________________________________________________________________________________\n",
      "downsampling_0_activation_0 (Ac (None, 1216, 608, 16 0           downsampling_0_batchnorm_0[0][0] \n",
      "__________________________________________________________________________________________________\n",
      "downsampling_0_conv_1 (Conv2D)  (None, 1216, 608, 16 2320        downsampling_0_activation_0[0][0]\n",
      "__________________________________________________________________________________________________\n",
      "downsampling_0_batchnorm_1 (Bat (None, 1216, 608, 16 64          downsampling_0_conv_1[0][0]      \n",
      "__________________________________________________________________________________________________\n",
      "downsampling_0_activation_1 (Ac (None, 1216, 608, 16 0           downsampling_0_batchnorm_1[0][0] \n",
      "__________________________________________________________________________________________________\n",
      "max_pooling2d_1 (MaxPooling2D)  (None, 608, 304, 16) 0           downsampling_0_activation_1[0][0]\n",
      "__________________________________________________________________________________________________\n",
      "downsampling_1_conv_0 (Conv2D)  (None, 608, 304, 32) 4640        max_pooling2d_1[0][0]            \n",
      "__________________________________________________________________________________________________\n",
      "downsampling_1_batchnorm_0 (Bat (None, 608, 304, 32) 128         downsampling_1_conv_0[0][0]      \n",
      "__________________________________________________________________________________________________\n",
      "downsampling_1_activation_0 (Ac (None, 608, 304, 32) 0           downsampling_1_batchnorm_0[0][0] \n",
      "__________________________________________________________________________________________________\n",
      "downsampling_1_conv_1 (Conv2D)  (None, 608, 304, 32) 9248        downsampling_1_activation_0[0][0]\n",
      "__________________________________________________________________________________________________\n",
      "downsampling_1_batchnorm_1 (Bat (None, 608, 304, 32) 128         downsampling_1_conv_1[0][0]      \n",
      "__________________________________________________________________________________________________\n",
      "downsampling_1_activation_1 (Ac (None, 608, 304, 32) 0           downsampling_1_batchnorm_1[0][0] \n",
      "__________________________________________________________________________________________________\n",
      "max_pooling2d_2 (MaxPooling2D)  (None, 304, 152, 32) 0           downsampling_1_activation_1[0][0]\n",
      "__________________________________________________________________________________________________\n",
      "downsampling_2_conv_0 (Conv2D)  (None, 304, 152, 64) 18496       max_pooling2d_2[0][0]            \n",
      "__________________________________________________________________________________________________\n",
      "downsampling_2_batchnorm_0 (Bat (None, 304, 152, 64) 256         downsampling_2_conv_0[0][0]      \n",
      "__________________________________________________________________________________________________\n",
      "downsampling_2_activation_0 (Ac (None, 304, 152, 64) 0           downsampling_2_batchnorm_0[0][0] \n",
      "__________________________________________________________________________________________________\n",
      "downsampling_2_conv_1 (Conv2D)  (None, 304, 152, 64) 36928       downsampling_2_activation_0[0][0]\n",
      "__________________________________________________________________________________________________\n",
      "downsampling_2_batchnorm_1 (Bat (None, 304, 152, 64) 256         downsampling_2_conv_1[0][0]      \n",
      "__________________________________________________________________________________________________\n",
      "downsampling_2_activation_1 (Ac (None, 304, 152, 64) 0           downsampling_2_batchnorm_1[0][0] \n",
      "__________________________________________________________________________________________________\n",
      "max_pooling2d_3 (MaxPooling2D)  (None, 152, 76, 64)  0           downsampling_2_activation_1[0][0]\n",
      "__________________________________________________________________________________________________\n",
      "downsampling_3_conv_0 (Conv2D)  (None, 152, 76, 128) 73856       max_pooling2d_3[0][0]            \n",
      "__________________________________________________________________________________________________\n",
      "downsampling_3_batchnorm_0 (Bat (None, 152, 76, 128) 512         downsampling_3_conv_0[0][0]      \n",
      "__________________________________________________________________________________________________\n",
      "downsampling_3_activation_0 (Ac (None, 152, 76, 128) 0           downsampling_3_batchnorm_0[0][0] \n",
      "__________________________________________________________________________________________________\n",
      "downsampling_3_conv_1 (Conv2D)  (None, 152, 76, 128) 147584      downsampling_3_activation_0[0][0]\n",
      "__________________________________________________________________________________________________\n",
      "downsampling_3_batchnorm_1 (Bat (None, 152, 76, 128) 512         downsampling_3_conv_1[0][0]      \n",
      "__________________________________________________________________________________________________\n",
      "downsampling_3_activation_1 (Ac (None, 152, 76, 128) 0           downsampling_3_batchnorm_1[0][0] \n",
      "__________________________________________________________________________________________________\n",
      "max_pooling2d_4 (MaxPooling2D)  (None, 76, 38, 128)  0           downsampling_3_activation_1[0][0]\n",
      "__________________________________________________________________________________________________\n",
      "bottleneck_skip_0 (Conv2D)      (None, 76, 38, 256)  295168      max_pooling2d_4[0][0]            \n",
      "__________________________________________________________________________________________________\n",
      "bottleneck_skip_1 (Conv2D)      (None, 76, 38, 256)  590080      bottleneck_skip_0[0][0]          \n",
      "__________________________________________________________________________________________________\n",
      "bottleneck_skip_2 (Conv2D)      (None, 76, 38, 256)  590080      bottleneck_skip_1[0][0]          \n",
      "__________________________________________________________________________________________________\n",
      "bottleneck_skip_3 (Conv2D)      (None, 76, 38, 256)  590080      bottleneck_skip_2[0][0]          \n",
      "__________________________________________________________________________________________________\n",
      "bottleneck_skip_4 (Conv2D)      (None, 76, 38, 256)  590080      bottleneck_skip_3[0][0]          \n",
      "__________________________________________________________________________________________________\n",
      "add_1 (Add)                     (None, 76, 38, 256)  0           bottleneck_skip_0[0][0]          \n",
      "                                                                 bottleneck_skip_1[0][0]          \n",
      "                                                                 bottleneck_skip_2[0][0]          \n",
      "                                                                 bottleneck_skip_3[0][0]          \n",
      "                                                                 bottleneck_skip_4[0][0]          \n",
      "__________________________________________________________________________________________________\n",
      "upsampling_0_conv_trans_0 (Conv (None, 152, 76, 128) 131200      add_1[0][0]                      \n",
      "__________________________________________________________________________________________________\n",
      "concatenate_1 (Concatenate)     (None, 152, 76, 256) 0           upsampling_0_conv_trans_0[0][0]  \n",
      "                                                                 downsampling_3_activation_1[0][0]\n",
      "__________________________________________________________________________________________________\n",
      "upsampling_0_conv_0 (Conv2D)    (None, 152, 76, 128) 295040      concatenate_1[0][0]              \n",
      "__________________________________________________________________________________________________\n",
      "upsampling_0_batchnorm_0 (Batch (None, 152, 76, 128) 512         upsampling_0_conv_0[0][0]        \n",
      "__________________________________________________________________________________________________\n",
      "upsampling_0_activation_0 (Acti (None, 152, 76, 128) 0           upsampling_0_batchnorm_0[0][0]   \n",
      "__________________________________________________________________________________________________\n",
      "upsampling_0_conv_1 (Conv2D)    (None, 152, 76, 128) 147584      upsampling_0_activation_0[0][0]  \n",
      "__________________________________________________________________________________________________\n",
      "upsampling_0_batchnorm_1 (Batch (None, 152, 76, 128) 512         upsampling_0_conv_1[0][0]        \n",
      "__________________________________________________________________________________________________\n",
      "upsampling_0_activation_1 (Acti (None, 152, 76, 128) 0           upsampling_0_batchnorm_1[0][0]   \n",
      "__________________________________________________________________________________________________\n",
      "upsampling_1_conv_trans_1 (Conv (None, 304, 152, 64) 32832       upsampling_0_activation_1[0][0]  \n",
      "__________________________________________________________________________________________________\n",
      "concatenate_2 (Concatenate)     (None, 304, 152, 128 0           upsampling_1_conv_trans_1[0][0]  \n",
      "                                                                 downsampling_2_activation_1[0][0]\n",
      "__________________________________________________________________________________________________\n",
      "upsampling_1_conv_0 (Conv2D)    (None, 304, 152, 64) 73792       concatenate_2[0][0]              \n",
      "__________________________________________________________________________________________________\n",
      "upsampling_1_batchnorm_0 (Batch (None, 304, 152, 64) 256         upsampling_1_conv_0[0][0]        \n",
      "__________________________________________________________________________________________________\n",
      "upsampling_1_activation_0 (Acti (None, 304, 152, 64) 0           upsampling_1_batchnorm_0[0][0]   \n",
      "__________________________________________________________________________________________________\n",
      "upsampling_1_conv_1 (Conv2D)    (None, 304, 152, 64) 36928       upsampling_1_activation_0[0][0]  \n",
      "__________________________________________________________________________________________________\n",
      "upsampling_1_batchnorm_1 (Batch (None, 304, 152, 64) 256         upsampling_1_conv_1[0][0]        \n",
      "__________________________________________________________________________________________________\n",
      "upsampling_1_activation_1 (Acti (None, 304, 152, 64) 0           upsampling_1_batchnorm_1[0][0]   \n",
      "__________________________________________________________________________________________________\n",
      "upsampling_2_conv_trans_2 (Conv (None, 608, 304, 32) 8224        upsampling_1_activation_1[0][0]  \n",
      "__________________________________________________________________________________________________\n",
      "concatenate_3 (Concatenate)     (None, 608, 304, 64) 0           upsampling_2_conv_trans_2[0][0]  \n",
      "                                                                 downsampling_1_activation_1[0][0]\n",
      "__________________________________________________________________________________________________\n",
      "upsampling_2_conv_0 (Conv2D)    (None, 608, 304, 32) 18464       concatenate_3[0][0]              \n",
      "__________________________________________________________________________________________________\n",
      "upsampling_2_batchnorm_0 (Batch (None, 608, 304, 32) 128         upsampling_2_conv_0[0][0]        \n",
      "__________________________________________________________________________________________________\n",
      "upsampling_2_activation_0 (Acti (None, 608, 304, 32) 0           upsampling_2_batchnorm_0[0][0]   \n",
      "__________________________________________________________________________________________________\n",
      "upsampling_2_conv_1 (Conv2D)    (None, 608, 304, 32) 9248        upsampling_2_activation_0[0][0]  \n",
      "__________________________________________________________________________________________________\n",
      "upsampling_2_batchnorm_1 (Batch (None, 608, 304, 32) 128         upsampling_2_conv_1[0][0]        \n",
      "__________________________________________________________________________________________________\n",
      "upsampling_2_activation_1 (Acti (None, 608, 304, 32) 0           upsampling_2_batchnorm_1[0][0]   \n",
      "__________________________________________________________________________________________________\n",
      "upsampling_3_conv_trans_3 (Conv (None, 1216, 608, 16 2064        upsampling_2_activation_1[0][0]  \n",
      "__________________________________________________________________________________________________\n",
      "concatenate_4 (Concatenate)     (None, 1216, 608, 32 0           upsampling_3_conv_trans_3[0][0]  \n",
      "                                                                 downsampling_0_activation_1[0][0]\n",
      "__________________________________________________________________________________________________\n",
      "upsampling_3_conv_0 (Conv2D)    (None, 1216, 608, 16 4624        concatenate_4[0][0]              \n",
      "__________________________________________________________________________________________________\n",
      "upsampling_3_batchnorm_0 (Batch (None, 1216, 608, 16 64          upsampling_3_conv_0[0][0]        \n",
      "__________________________________________________________________________________________________\n",
      "upsampling_3_activation_0 (Acti (None, 1216, 608, 16 0           upsampling_3_batchnorm_0[0][0]   \n",
      "__________________________________________________________________________________________________\n",
      "upsampling_3_conv_1 (Conv2D)    (None, 1216, 608, 16 2320        upsampling_3_activation_0[0][0]  \n",
      "__________________________________________________________________________________________________\n",
      "upsampling_3_batchnorm_1 (Batch (None, 1216, 608, 16 64          upsampling_3_conv_1[0][0]        \n",
      "__________________________________________________________________________________________________\n",
      "upsampling_3_activation_1 (Acti (None, 1216, 608, 16 0           upsampling_3_batchnorm_1[0][0]   \n",
      "__________________________________________________________________________________________________\n",
      "output_softmax (Conv2D)         (None, 1216, 608, 1) 17          upsampling_3_activation_1[0][0]  \n",
      "==================================================================================================\n",
      "Total params: 3,715,185\n",
      "Trainable params: 3,713,265\n",
      "Non-trainable params: 1,920\n",
      "__________________________________________________________________________________________________\n"
     ]
    }
   ],
   "source": [
    "model1 = model_simple_unet_initializer(1, 4, 2, 5, 16, True, 3, True, False, 'l2', 0.001)"
   ]
  },
  {
   "cell_type": "code",
   "execution_count": 21,
   "metadata": {
    "scrolled": false
   },
   "outputs": [
    {
     "name": "stdout",
     "output_type": "stream",
     "text": [
      "WARNING:tensorflow:From /home/chang_1909004/anaconda3/lib/python3.7/site-packages/tensorflow/python/ops/math_ops.py:3066: to_int32 (from tensorflow.python.ops.math_ops) is deprecated and will be removed in a future version.\n",
      "Instructions for updating:\n",
      "Use tf.cast instead.\n",
      "WARNING:tensorflow:From /home/chang_1909004/anaconda3/lib/python3.7/site-packages/tensorflow/python/ops/math_grad.py:102: div (from tensorflow.python.ops.math_ops) is deprecated and will be removed in a future version.\n",
      "Instructions for updating:\n",
      "Deprecated in favor of operator or tf.math.divide.\n",
      "Epoch 1/10\n",
      " 5/50 [==>...........................] - ETA: 2:53 - loss: 2.8653 - dice_coef: 0.5079"
     ]
    },
    {
     "ename": "KeyboardInterrupt",
     "evalue": "",
     "output_type": "error",
     "traceback": [
      "\u001b[0;31m---------------------------------------------------------------------------\u001b[0m",
      "\u001b[0;31mKeyboardInterrupt\u001b[0m                         Traceback (most recent call last)",
      "\u001b[0;32m<ipython-input-21-b2515628aca2>\u001b[0m in \u001b[0;36m<module>\u001b[0;34m\u001b[0m\n\u001b[1;32m      3\u001b[0m                     \u001b[0msteps_per_epoch\u001b[0m \u001b[0;34m=\u001b[0m \u001b[0;36m50\u001b[0m\u001b[0;34m,\u001b[0m\u001b[0;34m\u001b[0m\u001b[0;34m\u001b[0m\u001b[0m\n\u001b[1;32m      4\u001b[0m                     \u001b[0mepochs\u001b[0m\u001b[0;34m=\u001b[0m\u001b[0;36m10\u001b[0m\u001b[0;34m,\u001b[0m\u001b[0;34m\u001b[0m\u001b[0;34m\u001b[0m\u001b[0m\n\u001b[0;32m----> 5\u001b[0;31m                     \u001b[0mverbose\u001b[0m\u001b[0;34m=\u001b[0m\u001b[0;36m1\u001b[0m\u001b[0;34m\u001b[0m\u001b[0;34m\u001b[0m\u001b[0m\n\u001b[0m\u001b[1;32m      6\u001b[0m                     )\n",
      "\u001b[0;32m~/anaconda3/lib/python3.7/site-packages/keras/legacy/interfaces.py\u001b[0m in \u001b[0;36mwrapper\u001b[0;34m(*args, **kwargs)\u001b[0m\n\u001b[1;32m     89\u001b[0m                 warnings.warn('Update your `' + object_name +\n\u001b[1;32m     90\u001b[0m                               '` call to the Keras 2 API: ' + signature, stacklevel=2)\n\u001b[0;32m---> 91\u001b[0;31m             \u001b[0;32mreturn\u001b[0m \u001b[0mfunc\u001b[0m\u001b[0;34m(\u001b[0m\u001b[0;34m*\u001b[0m\u001b[0margs\u001b[0m\u001b[0;34m,\u001b[0m \u001b[0;34m**\u001b[0m\u001b[0mkwargs\u001b[0m\u001b[0;34m)\u001b[0m\u001b[0;34m\u001b[0m\u001b[0;34m\u001b[0m\u001b[0m\n\u001b[0m\u001b[1;32m     92\u001b[0m         \u001b[0mwrapper\u001b[0m\u001b[0;34m.\u001b[0m\u001b[0m_original_function\u001b[0m \u001b[0;34m=\u001b[0m \u001b[0mfunc\u001b[0m\u001b[0;34m\u001b[0m\u001b[0;34m\u001b[0m\u001b[0m\n\u001b[1;32m     93\u001b[0m         \u001b[0;32mreturn\u001b[0m \u001b[0mwrapper\u001b[0m\u001b[0;34m\u001b[0m\u001b[0;34m\u001b[0m\u001b[0m\n",
      "\u001b[0;32m~/anaconda3/lib/python3.7/site-packages/keras/engine/training.py\u001b[0m in \u001b[0;36mfit_generator\u001b[0;34m(self, generator, steps_per_epoch, epochs, verbose, callbacks, validation_data, validation_steps, class_weight, max_queue_size, workers, use_multiprocessing, shuffle, initial_epoch)\u001b[0m\n\u001b[1;32m   2228\u001b[0m                     outs = self.train_on_batch(x, y,\n\u001b[1;32m   2229\u001b[0m                                                \u001b[0msample_weight\u001b[0m\u001b[0;34m=\u001b[0m\u001b[0msample_weight\u001b[0m\u001b[0;34m,\u001b[0m\u001b[0;34m\u001b[0m\u001b[0;34m\u001b[0m\u001b[0m\n\u001b[0;32m-> 2230\u001b[0;31m                                                class_weight=class_weight)\n\u001b[0m\u001b[1;32m   2231\u001b[0m \u001b[0;34m\u001b[0m\u001b[0m\n\u001b[1;32m   2232\u001b[0m                     \u001b[0;32mif\u001b[0m \u001b[0;32mnot\u001b[0m \u001b[0misinstance\u001b[0m\u001b[0;34m(\u001b[0m\u001b[0mouts\u001b[0m\u001b[0;34m,\u001b[0m \u001b[0mlist\u001b[0m\u001b[0;34m)\u001b[0m\u001b[0;34m:\u001b[0m\u001b[0;34m\u001b[0m\u001b[0;34m\u001b[0m\u001b[0m\n",
      "\u001b[0;32m~/anaconda3/lib/python3.7/site-packages/keras/engine/training.py\u001b[0m in \u001b[0;36mtrain_on_batch\u001b[0;34m(self, x, y, sample_weight, class_weight)\u001b[0m\n\u001b[1;32m   1881\u001b[0m             \u001b[0mins\u001b[0m \u001b[0;34m=\u001b[0m \u001b[0mx\u001b[0m \u001b[0;34m+\u001b[0m \u001b[0my\u001b[0m \u001b[0;34m+\u001b[0m \u001b[0msample_weights\u001b[0m\u001b[0;34m\u001b[0m\u001b[0;34m\u001b[0m\u001b[0m\n\u001b[1;32m   1882\u001b[0m         \u001b[0mself\u001b[0m\u001b[0;34m.\u001b[0m\u001b[0m_make_train_function\u001b[0m\u001b[0;34m(\u001b[0m\u001b[0;34m)\u001b[0m\u001b[0;34m\u001b[0m\u001b[0;34m\u001b[0m\u001b[0m\n\u001b[0;32m-> 1883\u001b[0;31m         \u001b[0moutputs\u001b[0m \u001b[0;34m=\u001b[0m \u001b[0mself\u001b[0m\u001b[0;34m.\u001b[0m\u001b[0mtrain_function\u001b[0m\u001b[0;34m(\u001b[0m\u001b[0mins\u001b[0m\u001b[0;34m)\u001b[0m\u001b[0;34m\u001b[0m\u001b[0;34m\u001b[0m\u001b[0m\n\u001b[0m\u001b[1;32m   1884\u001b[0m         \u001b[0;32mif\u001b[0m \u001b[0mlen\u001b[0m\u001b[0;34m(\u001b[0m\u001b[0moutputs\u001b[0m\u001b[0;34m)\u001b[0m \u001b[0;34m==\u001b[0m \u001b[0;36m1\u001b[0m\u001b[0;34m:\u001b[0m\u001b[0;34m\u001b[0m\u001b[0;34m\u001b[0m\u001b[0m\n\u001b[1;32m   1885\u001b[0m             \u001b[0;32mreturn\u001b[0m \u001b[0moutputs\u001b[0m\u001b[0;34m[\u001b[0m\u001b[0;36m0\u001b[0m\u001b[0;34m]\u001b[0m\u001b[0;34m\u001b[0m\u001b[0;34m\u001b[0m\u001b[0m\n",
      "\u001b[0;32m~/anaconda3/lib/python3.7/site-packages/keras/backend/tensorflow_backend.py\u001b[0m in \u001b[0;36m__call__\u001b[0;34m(self, inputs)\u001b[0m\n\u001b[1;32m   2480\u001b[0m         \u001b[0msession\u001b[0m \u001b[0;34m=\u001b[0m \u001b[0mget_session\u001b[0m\u001b[0;34m(\u001b[0m\u001b[0;34m)\u001b[0m\u001b[0;34m\u001b[0m\u001b[0;34m\u001b[0m\u001b[0m\n\u001b[1;32m   2481\u001b[0m         updated = session.run(fetches=fetches, feed_dict=feed_dict,\n\u001b[0;32m-> 2482\u001b[0;31m                               **self.session_kwargs)\n\u001b[0m\u001b[1;32m   2483\u001b[0m         \u001b[0;32mreturn\u001b[0m \u001b[0mupdated\u001b[0m\u001b[0;34m[\u001b[0m\u001b[0;34m:\u001b[0m\u001b[0mlen\u001b[0m\u001b[0;34m(\u001b[0m\u001b[0mself\u001b[0m\u001b[0;34m.\u001b[0m\u001b[0moutputs\u001b[0m\u001b[0;34m)\u001b[0m\u001b[0;34m]\u001b[0m\u001b[0;34m\u001b[0m\u001b[0;34m\u001b[0m\u001b[0m\n\u001b[1;32m   2484\u001b[0m \u001b[0;34m\u001b[0m\u001b[0m\n",
      "\u001b[0;32m~/anaconda3/lib/python3.7/site-packages/tensorflow/python/client/session.py\u001b[0m in \u001b[0;36mrun\u001b[0;34m(self, fetches, feed_dict, options, run_metadata)\u001b[0m\n\u001b[1;32m    927\u001b[0m     \u001b[0;32mtry\u001b[0m\u001b[0;34m:\u001b[0m\u001b[0;34m\u001b[0m\u001b[0;34m\u001b[0m\u001b[0m\n\u001b[1;32m    928\u001b[0m       result = self._run(None, fetches, feed_dict, options_ptr,\n\u001b[0;32m--> 929\u001b[0;31m                          run_metadata_ptr)\n\u001b[0m\u001b[1;32m    930\u001b[0m       \u001b[0;32mif\u001b[0m \u001b[0mrun_metadata\u001b[0m\u001b[0;34m:\u001b[0m\u001b[0;34m\u001b[0m\u001b[0;34m\u001b[0m\u001b[0m\n\u001b[1;32m    931\u001b[0m         \u001b[0mproto_data\u001b[0m \u001b[0;34m=\u001b[0m \u001b[0mtf_session\u001b[0m\u001b[0;34m.\u001b[0m\u001b[0mTF_GetBuffer\u001b[0m\u001b[0;34m(\u001b[0m\u001b[0mrun_metadata_ptr\u001b[0m\u001b[0;34m)\u001b[0m\u001b[0;34m\u001b[0m\u001b[0;34m\u001b[0m\u001b[0m\n",
      "\u001b[0;32m~/anaconda3/lib/python3.7/site-packages/tensorflow/python/client/session.py\u001b[0m in \u001b[0;36m_run\u001b[0;34m(self, handle, fetches, feed_dict, options, run_metadata)\u001b[0m\n\u001b[1;32m   1150\u001b[0m     \u001b[0;32mif\u001b[0m \u001b[0mfinal_fetches\u001b[0m \u001b[0;32mor\u001b[0m \u001b[0mfinal_targets\u001b[0m \u001b[0;32mor\u001b[0m \u001b[0;34m(\u001b[0m\u001b[0mhandle\u001b[0m \u001b[0;32mand\u001b[0m \u001b[0mfeed_dict_tensor\u001b[0m\u001b[0;34m)\u001b[0m\u001b[0;34m:\u001b[0m\u001b[0;34m\u001b[0m\u001b[0;34m\u001b[0m\u001b[0m\n\u001b[1;32m   1151\u001b[0m       results = self._do_run(handle, final_targets, final_fetches,\n\u001b[0;32m-> 1152\u001b[0;31m                              feed_dict_tensor, options, run_metadata)\n\u001b[0m\u001b[1;32m   1153\u001b[0m     \u001b[0;32melse\u001b[0m\u001b[0;34m:\u001b[0m\u001b[0;34m\u001b[0m\u001b[0;34m\u001b[0m\u001b[0m\n\u001b[1;32m   1154\u001b[0m       \u001b[0mresults\u001b[0m \u001b[0;34m=\u001b[0m \u001b[0;34m[\u001b[0m\u001b[0;34m]\u001b[0m\u001b[0;34m\u001b[0m\u001b[0;34m\u001b[0m\u001b[0m\n",
      "\u001b[0;32m~/anaconda3/lib/python3.7/site-packages/tensorflow/python/client/session.py\u001b[0m in \u001b[0;36m_do_run\u001b[0;34m(self, handle, target_list, fetch_list, feed_dict, options, run_metadata)\u001b[0m\n\u001b[1;32m   1326\u001b[0m     \u001b[0;32mif\u001b[0m \u001b[0mhandle\u001b[0m \u001b[0;32mis\u001b[0m \u001b[0;32mNone\u001b[0m\u001b[0;34m:\u001b[0m\u001b[0;34m\u001b[0m\u001b[0;34m\u001b[0m\u001b[0m\n\u001b[1;32m   1327\u001b[0m       return self._do_call(_run_fn, feeds, fetches, targets, options,\n\u001b[0;32m-> 1328\u001b[0;31m                            run_metadata)\n\u001b[0m\u001b[1;32m   1329\u001b[0m     \u001b[0;32melse\u001b[0m\u001b[0;34m:\u001b[0m\u001b[0;34m\u001b[0m\u001b[0;34m\u001b[0m\u001b[0m\n\u001b[1;32m   1330\u001b[0m       \u001b[0;32mreturn\u001b[0m \u001b[0mself\u001b[0m\u001b[0;34m.\u001b[0m\u001b[0m_do_call\u001b[0m\u001b[0;34m(\u001b[0m\u001b[0m_prun_fn\u001b[0m\u001b[0;34m,\u001b[0m \u001b[0mhandle\u001b[0m\u001b[0;34m,\u001b[0m \u001b[0mfeeds\u001b[0m\u001b[0;34m,\u001b[0m \u001b[0mfetches\u001b[0m\u001b[0;34m)\u001b[0m\u001b[0;34m\u001b[0m\u001b[0;34m\u001b[0m\u001b[0m\n",
      "\u001b[0;32m~/anaconda3/lib/python3.7/site-packages/tensorflow/python/client/session.py\u001b[0m in \u001b[0;36m_do_call\u001b[0;34m(self, fn, *args)\u001b[0m\n\u001b[1;32m   1332\u001b[0m   \u001b[0;32mdef\u001b[0m \u001b[0m_do_call\u001b[0m\u001b[0;34m(\u001b[0m\u001b[0mself\u001b[0m\u001b[0;34m,\u001b[0m \u001b[0mfn\u001b[0m\u001b[0;34m,\u001b[0m \u001b[0;34m*\u001b[0m\u001b[0margs\u001b[0m\u001b[0;34m)\u001b[0m\u001b[0;34m:\u001b[0m\u001b[0;34m\u001b[0m\u001b[0;34m\u001b[0m\u001b[0m\n\u001b[1;32m   1333\u001b[0m     \u001b[0;32mtry\u001b[0m\u001b[0;34m:\u001b[0m\u001b[0;34m\u001b[0m\u001b[0;34m\u001b[0m\u001b[0m\n\u001b[0;32m-> 1334\u001b[0;31m       \u001b[0;32mreturn\u001b[0m \u001b[0mfn\u001b[0m\u001b[0;34m(\u001b[0m\u001b[0;34m*\u001b[0m\u001b[0margs\u001b[0m\u001b[0;34m)\u001b[0m\u001b[0;34m\u001b[0m\u001b[0;34m\u001b[0m\u001b[0m\n\u001b[0m\u001b[1;32m   1335\u001b[0m     \u001b[0;32mexcept\u001b[0m \u001b[0merrors\u001b[0m\u001b[0;34m.\u001b[0m\u001b[0mOpError\u001b[0m \u001b[0;32mas\u001b[0m \u001b[0me\u001b[0m\u001b[0;34m:\u001b[0m\u001b[0;34m\u001b[0m\u001b[0;34m\u001b[0m\u001b[0m\n\u001b[1;32m   1336\u001b[0m       \u001b[0mmessage\u001b[0m \u001b[0;34m=\u001b[0m \u001b[0mcompat\u001b[0m\u001b[0;34m.\u001b[0m\u001b[0mas_text\u001b[0m\u001b[0;34m(\u001b[0m\u001b[0me\u001b[0m\u001b[0;34m.\u001b[0m\u001b[0mmessage\u001b[0m\u001b[0;34m)\u001b[0m\u001b[0;34m\u001b[0m\u001b[0;34m\u001b[0m\u001b[0m\n",
      "\u001b[0;32m~/anaconda3/lib/python3.7/site-packages/tensorflow/python/client/session.py\u001b[0m in \u001b[0;36m_run_fn\u001b[0;34m(feed_dict, fetch_list, target_list, options, run_metadata)\u001b[0m\n\u001b[1;32m   1317\u001b[0m       \u001b[0mself\u001b[0m\u001b[0;34m.\u001b[0m\u001b[0m_extend_graph\u001b[0m\u001b[0;34m(\u001b[0m\u001b[0;34m)\u001b[0m\u001b[0;34m\u001b[0m\u001b[0;34m\u001b[0m\u001b[0m\n\u001b[1;32m   1318\u001b[0m       return self._call_tf_sessionrun(\n\u001b[0;32m-> 1319\u001b[0;31m           options, feed_dict, fetch_list, target_list, run_metadata)\n\u001b[0m\u001b[1;32m   1320\u001b[0m \u001b[0;34m\u001b[0m\u001b[0m\n\u001b[1;32m   1321\u001b[0m     \u001b[0;32mdef\u001b[0m \u001b[0m_prun_fn\u001b[0m\u001b[0;34m(\u001b[0m\u001b[0mhandle\u001b[0m\u001b[0;34m,\u001b[0m \u001b[0mfeed_dict\u001b[0m\u001b[0;34m,\u001b[0m \u001b[0mfetch_list\u001b[0m\u001b[0;34m)\u001b[0m\u001b[0;34m:\u001b[0m\u001b[0;34m\u001b[0m\u001b[0;34m\u001b[0m\u001b[0m\n",
      "\u001b[0;32m~/anaconda3/lib/python3.7/site-packages/tensorflow/python/client/session.py\u001b[0m in \u001b[0;36m_call_tf_sessionrun\u001b[0;34m(self, options, feed_dict, fetch_list, target_list, run_metadata)\u001b[0m\n\u001b[1;32m   1405\u001b[0m     return tf_session.TF_SessionRun_wrapper(\n\u001b[1;32m   1406\u001b[0m         \u001b[0mself\u001b[0m\u001b[0;34m.\u001b[0m\u001b[0m_session\u001b[0m\u001b[0;34m,\u001b[0m \u001b[0moptions\u001b[0m\u001b[0;34m,\u001b[0m \u001b[0mfeed_dict\u001b[0m\u001b[0;34m,\u001b[0m \u001b[0mfetch_list\u001b[0m\u001b[0;34m,\u001b[0m \u001b[0mtarget_list\u001b[0m\u001b[0;34m,\u001b[0m\u001b[0;34m\u001b[0m\u001b[0;34m\u001b[0m\u001b[0m\n\u001b[0;32m-> 1407\u001b[0;31m         run_metadata)\n\u001b[0m\u001b[1;32m   1408\u001b[0m \u001b[0;34m\u001b[0m\u001b[0m\n\u001b[1;32m   1409\u001b[0m   \u001b[0;32mdef\u001b[0m \u001b[0m_call_tf_sessionprun\u001b[0m\u001b[0;34m(\u001b[0m\u001b[0mself\u001b[0m\u001b[0;34m,\u001b[0m \u001b[0mhandle\u001b[0m\u001b[0;34m,\u001b[0m \u001b[0mfeed_dict\u001b[0m\u001b[0;34m,\u001b[0m \u001b[0mfetch_list\u001b[0m\u001b[0;34m)\u001b[0m\u001b[0;34m:\u001b[0m\u001b[0;34m\u001b[0m\u001b[0;34m\u001b[0m\u001b[0m\n",
      "\u001b[0;31mKeyboardInterrupt\u001b[0m: "
     ]
    }
   ],
   "source": [
    "model1.fit_generator(\n",
    "                    image_generator(),\n",
    "                    steps_per_epoch = 50, \n",
    "                    epochs=10,\n",
    "                    verbose=1\n",
    "                    )"
   ]
  },
  {
   "cell_type": "markdown",
   "metadata": {},
   "source": [
    "testset_segmentation.py predict"
   ]
  },
  {
   "cell_type": "code",
   "execution_count": null,
   "metadata": {},
   "outputs": [],
   "source": [
    "from keras.preprocessing.image import ImageDataGenerator"
   ]
  },
  {
   "cell_type": "code",
   "execution_count": null,
   "metadata": {
    "scrolled": true
   },
   "outputs": [],
   "source": [
    "test_datagen = ImageDataGenerator()\n",
    "\n",
    "test_generator = test_datagen.flow_from_directory(\n",
    "        \".//test_image/\",\n",
    "        target_size=(1216, 608),\n",
    "        color_mode=\"rgb\",\n",
    "        shuffle = False,\n",
    "        class_mode=None,\n",
    "        batch_size=1)\n",
    "\n",
    "filenames = test_generator.filenames\n",
    "nb_samples = len(filenames)\n",
    "\n",
    "predict = model1.predict_generator(test_generator,steps = nb_samples, verbose=1)"
   ]
  },
  {
   "cell_type": "code",
   "execution_count": null,
   "metadata": {
    "scrolled": true
   },
   "outputs": [],
   "source": [
    "predict.min()"
   ]
  },
  {
   "cell_type": "code",
   "execution_count": null,
   "metadata": {},
   "outputs": [],
   "source": [
    "predict.shape"
   ]
  },
  {
   "cell_type": "code",
   "execution_count": null,
   "metadata": {},
   "outputs": [],
   "source": [
    "np.unique(predict)"
   ]
  },
  {
   "cell_type": "code",
   "execution_count": null,
   "metadata": {},
   "outputs": [],
   "source": []
  }
 ],
 "metadata": {
  "kernelspec": {
   "display_name": "Python 3",
   "language": "python",
   "name": "python3"
  },
  "language_info": {
   "codemirror_mode": {
    "name": "ipython",
    "version": 3
   },
   "file_extension": ".py",
   "mimetype": "text/x-python",
   "name": "python",
   "nbconvert_exporter": "python",
   "pygments_lexer": "ipython3",
   "version": "3.7.3"
  }
 },
 "nbformat": 4,
 "nbformat_minor": 2
}
