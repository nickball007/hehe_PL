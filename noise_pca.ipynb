{
 "cells": [
  {
   "cell_type": "code",
   "execution_count": 6,
   "metadata": {},
   "outputs": [],
   "source": [
    "# datasetX, principle components U, the numbers of dimensions to reduce to k\n",
    "import time\n",
    "import numpy as np\n",
    "# sklearn are prohibited\n",
    "import os\n",
    "#import sklearn\n",
    "from scipy import misc\n",
    "import matplotlib.pyplot as plt\n",
    "import matplotlib.cm as cm\n",
    "import matplotlib.image as mpimg\n",
    "\n",
    "from sklearn.model_selection import train_test_split\n",
    "from sklearn.model_selection import GridSearchCV\n",
    "from sklearn.datasets import fetch_lfw_people\n",
    "from sklearn.metrics import classification_report\n",
    "from sklearn.metrics import confusion_matrix\n",
    "from sklearn.decomposition import PCA\n",
    "from sklearn.svm import SVC\n",
    "from PIL import Image\n",
    "import random"
   ]
  },
  {
   "cell_type": "markdown",
   "metadata": {},
   "source": [
    "load image"
   ]
  },
  {
   "cell_type": "code",
   "execution_count": 7,
   "metadata": {},
   "outputs": [
    {
     "data": {
      "text/plain": [
       "386840"
      ]
     },
     "execution_count": 7,
     "metadata": {},
     "output_type": "execute_result"
    }
   ],
   "source": [
    "path = '/media/chang_1909004/970pro/PL/20seg/' #png\n",
    "#path = 'PL/2019/05/08/' #jpg\n",
    "#image= misc.imread(path + filenamelist[0], flatten= 0)\n",
    "\n",
    "png_pathlist = []\n",
    "# r=root, d=directories, f = files\n",
    "for r, d, f in os.walk(path):\n",
    "    for file in f:\n",
    "        if '.jpg' in file:\n",
    "            png_pathlist.append(os.path.join(r, file))\n",
    "\n",
    "len(png_pathlist)"
   ]
  },
  {
   "cell_type": "code",
   "execution_count": 8,
   "metadata": {},
   "outputs": [],
   "source": [
    "Start = 0\n",
    "Stop =  386839\n",
    "limit = 20000\n",
    "random.seed(1)\n",
    "RandomListOfIntegers = [random.randint(Start, Stop) for iter in range(limit)]"
   ]
  },
  {
   "cell_type": "code",
   "execution_count": 9,
   "metadata": {},
   "outputs": [
    {
     "data": {
      "text/plain": [
       "20000"
      ]
     },
     "execution_count": 9,
     "metadata": {},
     "output_type": "execute_result"
    }
   ],
   "source": [
    "len(RandomListOfIntegers)"
   ]
  },
  {
   "cell_type": "code",
   "execution_count": 10,
   "metadata": {},
   "outputs": [],
   "source": [
    "x = mpimg.imread(png_pathlist[38335])"
   ]
  },
  {
   "cell_type": "code",
   "execution_count": 11,
   "metadata": {
    "scrolled": true
   },
   "outputs": [
    {
     "data": {
      "text/plain": [
       "(1234, 487)"
      ]
     },
     "execution_count": 11,
     "metadata": {},
     "output_type": "execute_result"
    }
   ],
   "source": [
    "x[:, :, 0].shape"
   ]
  },
  {
   "cell_type": "code",
   "execution_count": 12,
   "metadata": {},
   "outputs": [],
   "source": [
    "# png_imagelist = []\n",
    "# #raw_jpg_imagelist = []\n",
    "# for i in RandomListOfIntegers:\n",
    "#     image = mpimg.imread(png_pathlist[i])\n",
    "#     #raw_jpg_imagelist.append(image.flatten())\n",
    "#     png_imagelist.append(image[:, :, 0].flatten())\n",
    "# # imagelist 672張圖的(1216, 608)"
   ]
  },
  {
   "cell_type": "code",
   "execution_count": 13,
   "metadata": {},
   "outputs": [],
   "source": [
    "from multiprocessing import Pool\n",
    "\n",
    "def read_image(path_index):\n",
    "    image = mpimg.imread(png_pathlist[path_index])\n",
    "    return image[:, :, 0].flatten()\n",
    "\n",
    "p = Pool(processes=18)\n",
    "\n",
    "png_imagelist = p.map(read_image, RandomListOfIntegers)\n",
    "p.close()\n",
    "p.join()"
   ]
  },
  {
   "cell_type": "code",
   "execution_count": 14,
   "metadata": {},
   "outputs": [
    {
     "data": {
      "text/plain": [
       "20000"
      ]
     },
     "execution_count": 14,
     "metadata": {},
     "output_type": "execute_result"
    }
   ],
   "source": [
    "len(png_imagelist)"
   ]
  },
  {
   "cell_type": "code",
   "execution_count": 15,
   "metadata": {},
   "outputs": [
    {
     "data": {
      "text/plain": [
       "(600958,)"
      ]
     },
     "execution_count": 15,
     "metadata": {},
     "output_type": "execute_result"
    }
   ],
   "source": [
    "png_imagelist[0].shape"
   ]
  },
  {
   "cell_type": "code",
   "execution_count": 16,
   "metadata": {},
   "outputs": [
    {
     "data": {
      "text/plain": [
       "600958"
      ]
     },
     "execution_count": 16,
     "metadata": {},
     "output_type": "execute_result"
    }
   ],
   "source": [
    "1234*487"
   ]
  },
  {
   "cell_type": "code",
   "execution_count": 17,
   "metadata": {
    "scrolled": true
   },
   "outputs": [
    {
     "name": "stdout",
     "output_type": "stream",
     "text": [
      "/media/chang_1909004/970pro/PL/20seg/PL_2019_04_27_19425LBE_40_A1M9FM0119_19.jpg\n"
     ]
    },
    {
     "data": {
      "text/plain": [
       "<matplotlib.image.AxesImage at 0x7f71df03b080>"
      ]
     },
     "execution_count": 17,
     "metadata": {},
     "output_type": "execute_result"
    },
    {
     "data": {
      "image/png": "[encoded data removed]",
      "text/plain": [
       "<Figure size 432x288 with 1 Axes>"
      ]
     },
     "metadata": {
      "needs_background": "light"
     },
     "output_type": "display_data"
    }
   ],
   "source": [
    "print(png_pathlist[RandomListOfIntegers[0]])\n",
    "plt.imshow(mpimg.imread(png_pathlist[RandomListOfIntegers[0]]), cmap='gray')"
   ]
  },
  {
   "cell_type": "code",
   "execution_count": 18,
   "metadata": {},
   "outputs": [
    {
     "data": {
      "text/plain": [
       "<matplotlib.image.AxesImage at 0x7f71defa4470>"
      ]
     },
     "execution_count": 18,
     "metadata": {},
     "output_type": "execute_result"
    },
    {
     "data": {
      "image/png": "[encoded data removed]",
      "text/plain": [
       "<Figure size 432x288 with 1 Axes>"
      ]
     },
     "metadata": {
      "needs_background": "light"
     },
     "output_type": "display_data"
    }
   ],
   "source": [
    "plt.imshow(png_imagelist[0].reshape(mpimg.imread(png_pathlist[RandomListOfIntegers[0]]).shape[0], mpimg.imread(png_pathlist[RandomListOfIntegers[0]]).shape[1]), cmap= 'gray')"
   ]
  },
  {
   "cell_type": "markdown",
   "metadata": {},
   "source": [
    "image segmentation"
   ]
  },
  {
   "cell_type": "code",
   "execution_count": 19,
   "metadata": {},
   "outputs": [],
   "source": [
    "# num = 0\n",
    "# rownum = 20\n",
    "# colnum = 4\n",
    "# noise_segmentation_path = \"noise_segmentation/\"\n",
    "# rowheight = image[0].shape[0] // rownum\n",
    "# colwidth = image[0].shape[1] // colnum\n",
    "# for img_path in png_pathlist:\n",
    "#     img = plt.imread(img_path) #(2469, 4870)\n",
    "#     seg_num = 0\n",
    "#     for r in range(rownum):\n",
    "#         for c in range(colnum):\n",
    "#             x = img[img.shape[0]//rownum*r:img.shape[0]//rownum*(r+1), img.shape[1]//colnum*c:img.shape[1]//colnum*(c+1)]\n",
    "# #             box = (c * colwidth, r * rowheight, (c + 1) * colwidth, (r + 1) * rowheight)\n",
    "# #             img.crop(box).save(os.path.join(dstpath, basename + '_' + str(num) + '.' + ext), ext)\n",
    "#             seg_num += 1\n",
    "#             plt.imsave(noise_segmentation_path + img_path[-20:-4] + \"_\" + str(seg_num) + \".png\", x, cmap='gray')\n",
    "#             num = num + 1"
   ]
  },
  {
   "cell_type": "markdown",
   "metadata": {},
   "source": [
    "load noise_segmentation image"
   ]
  },
  {
   "cell_type": "code",
   "execution_count": 20,
   "metadata": {},
   "outputs": [],
   "source": [
    "# path = '/media/chang_1909004/970pro/PL/20seg_PCA/'\n",
    "# #image= misc.imread(path + filenamelist[0], flatten= 0)\n",
    "\n",
    "# png_pathlist = []\n",
    "# # r=root, d=directories, f = files\n",
    "# for r, d, f in os.walk(path):\n",
    "#     for file in f:\n",
    "#         if '.png' in file:\n",
    "#             png_pathlist.append(os.path.join(r, file))\n",
    "\n",
    "# len(png_pathlist)"
   ]
  },
  {
   "cell_type": "code",
   "execution_count": 21,
   "metadata": {},
   "outputs": [],
   "source": [
    "# png_imagelist = []\n",
    "# for i in range(len(png_pathlist)):\n",
    "#     image = mpimg.imread(png_pathlist[i])\n",
    "#     png_imagelist.append(image[:, :, 0].flatten())\n",
    "# # imagelist 672(1216, 608)"
   ]
  },
  {
   "cell_type": "markdown",
   "metadata": {},
   "source": [
    "PCA"
   ]
  },
  {
   "cell_type": "code",
   "execution_count": 22,
   "metadata": {},
   "outputs": [],
   "source": [
    "components = 20"
   ]
  },
  {
   "cell_type": "code",
   "execution_count": 23,
   "metadata": {},
   "outputs": [],
   "source": [
    "# pca_array = np.array(png_imagelist)"
   ]
  },
  {
   "cell_type": "code",
   "execution_count": 24,
   "metadata": {},
   "outputs": [],
   "source": [
    "from sklearn.decomposition import IncrementalPCA"
   ]
  },
  {
   "cell_type": "code",
   "execution_count": 25,
   "metadata": {},
   "outputs": [],
   "source": [
    "# from sklearn.decomposition import IncrementalPCA\n",
    "# from scipy import sparse\n",
    "# X, _ = load_digits(return_X_y=True)\n",
    "# transformer = IncrementalPCA(n_components=7, batch_size=200)\n",
    "# # either partially fit on smaller batches of data\n",
    "# transformer.partial_fit(X[:100, :])\n",
    "\n",
    "# # or let the fit function itself divide the data into batches\n",
    "# X_sparse = sparse.csr_matrix(X)\n",
    "# X_transformed = transformer.fit_transform(X_sparse)\n",
    "# X_transformed.shape"
   ]
  },
  {
   "cell_type": "code",
   "execution_count": 26,
   "metadata": {},
   "outputs": [],
   "source": [
    "pca = IncrementalPCA(n_components=components, batch_size=500)\n",
    "X_train_pca = pca.fit_transform(png_imagelist)"
   ]
  },
  {
   "cell_type": "code",
   "execution_count": 27,
   "metadata": {},
   "outputs": [],
   "source": [
    "# pca = PCA(n_components=components)\n",
    "# X_train_pca = pca.fit_transform(png_imagelist)"
   ]
  },
  {
   "cell_type": "code",
   "execution_count": 28,
   "metadata": {
    "scrolled": true
   },
   "outputs": [],
   "source": [
    "# print(pca.explained_variance_ratio_)\n",
    "# print(len(pca.explained_variance_ratio_))\n",
    "# print(pca.singular_values_)\n",
    "# print(len(pca.singular_values_))"
   ]
  },
  {
   "cell_type": "code",
   "execution_count": 29,
   "metadata": {},
   "outputs": [
    {
     "data": {
      "text/plain": [
       "20"
      ]
     },
     "execution_count": 29,
     "metadata": {},
     "output_type": "execute_result"
    }
   ],
   "source": [
    "len(pca.components_)"
   ]
  },
  {
   "cell_type": "code",
   "execution_count": 30,
   "metadata": {},
   "outputs": [
    {
     "data": {
      "text/plain": [
       "(600958,)"
      ]
     },
     "execution_count": 30,
     "metadata": {},
     "output_type": "execute_result"
    }
   ],
   "source": [
    "pca.components_[0].shape"
   ]
  },
  {
   "cell_type": "code",
   "execution_count": 31,
   "metadata": {},
   "outputs": [],
   "source": [
    "for i in range(components):\n",
    "    plt.imsave(\"/media/chang_1909004/970pro/PL/20000_20seg_20PCA/\" + str(i) + \".jpg\", pca.components_[i].reshape(mpimg.imread(png_pathlist[RandomListOfIntegers[0]]).shape[0], mpimg.imread(png_pathlist[RandomListOfIntegers[0]]).shape[1]), cmap='gray')"
   ]
  },
  {
   "cell_type": "code",
   "execution_count": 32,
   "metadata": {},
   "outputs": [
    {
     "data": {
      "text/plain": [
       "'/media/chang_1909004/970pro/PL/20seg/PL_2019_04_21_19420LBE_54_A1M9KM0109_18.jpg'"
      ]
     },
     "execution_count": 32,
     "metadata": {},
     "output_type": "execute_result"
    }
   ],
   "source": [
    "png_pathlist[0]"
   ]
  },
  {
   "cell_type": "code",
   "execution_count": 33,
   "metadata": {},
   "outputs": [],
   "source": [
    "image = mpimg.imread(png_pathlist[0])"
   ]
  },
  {
   "cell_type": "code",
   "execution_count": 34,
   "metadata": {},
   "outputs": [
    {
     "data": {
      "text/plain": [
       "(20, 600958)"
      ]
     },
     "execution_count": 34,
     "metadata": {},
     "output_type": "execute_result"
    }
   ],
   "source": [
    "pca.components_.shape"
   ]
  },
  {
   "cell_type": "code",
   "execution_count": 35,
   "metadata": {},
   "outputs": [
    {
     "data": {
      "text/plain": [
       "600958"
      ]
     },
     "execution_count": 35,
     "metadata": {},
     "output_type": "execute_result"
    }
   ],
   "source": [
    "len(pca.components_[0])"
   ]
  },
  {
   "cell_type": "code",
   "execution_count": 36,
   "metadata": {},
   "outputs": [
    {
     "data": {
      "text/plain": [
       "(20,)"
      ]
     },
     "execution_count": 36,
     "metadata": {},
     "output_type": "execute_result"
    }
   ],
   "source": [
    "pca.explained_variance_ratio_.shape"
   ]
  },
  {
   "cell_type": "code",
   "execution_count": 37,
   "metadata": {},
   "outputs": [],
   "source": [
    "# pca.score(png_imagelist)"
   ]
  },
  {
   "cell_type": "code",
   "execution_count": 38,
   "metadata": {},
   "outputs": [
    {
     "data": {
      "text/plain": [
       "(600958,)"
      ]
     },
     "execution_count": 38,
     "metadata": {},
     "output_type": "execute_result"
    }
   ],
   "source": [
    "png_imagelist[0].shape"
   ]
  },
  {
   "cell_type": "code",
   "execution_count": 39,
   "metadata": {},
   "outputs": [],
   "source": [
    "# X_train_pca = pca.fit_transform(png_imagelist)"
   ]
  },
  {
   "cell_type": "code",
   "execution_count": 40,
   "metadata": {},
   "outputs": [
    {
     "data": {
      "text/plain": [
       "(20000, 20)"
      ]
     },
     "execution_count": 40,
     "metadata": {},
     "output_type": "execute_result"
    }
   ],
   "source": [
    "X_train_pca.shape"
   ]
  },
  {
   "cell_type": "code",
   "execution_count": 41,
   "metadata": {},
   "outputs": [
    {
     "data": {
      "text/plain": [
       "(20,)"
      ]
     },
     "execution_count": 41,
     "metadata": {},
     "output_type": "execute_result"
    }
   ],
   "source": [
    "X_train_pca[0].shape"
   ]
  },
  {
   "cell_type": "code",
   "execution_count": 42,
   "metadata": {},
   "outputs": [
    {
     "data": {
      "text/plain": [
       "(20, 600958)"
      ]
     },
     "execution_count": 42,
     "metadata": {},
     "output_type": "execute_result"
    }
   ],
   "source": [
    "pca.components_.shape"
   ]
  },
  {
   "cell_type": "code",
   "execution_count": 44,
   "metadata": {},
   "outputs": [],
   "source": [
    "for i in range(len(png_imagelist)):\n",
    "    plt.imsave(\"/media/chang_1909004/970pro/PL/20000_20seg_20PCA_processed/compared_\" + png_pathlist[RandomListOfIntegers[i]].replace(\"/media/chang_1909004/970pro/PL/20seg/\", \"\").replace(\".jpg\", \"\") + str(i) + \".jpg\", np.concatenate((png_imagelist[i].reshape(1234, 487), np.dot(X_train_pca[i], pca.components_).reshape(1234, 487), np.subtract(png_imagelist[i].reshape(1234, 487), np.dot(X_train_pca[i], pca.components_).reshape(1234, 487))), axis=1), cmap='gray')"
   ]
  },
  {
   "cell_type": "code",
   "execution_count": 64,
   "metadata": {},
   "outputs": [],
   "source": [
    "for i in range(len(png_imagelist)):\n",
    "    plt.imsave(\"/media/chang_1909004/970pro/PL/15000_20seg_20PCA_processed/compared_\" + png_pathlist[RandomListOfIntegers[i]].replace(\"/media/chang_1909004/970pro/PL/20seg/\", \"\").replace(\".jpg\", \"\") + str(i) + \".jpg\", np.concatenate((png_imagelist[i].reshape(1234, 487), np.dot(X_train_pca[i], pca.components_).reshape(1234, 487), np.subtract(png_imagelist[i].reshape(1234, 487), np.dot(X_train_pca[i], pca.components_).reshape(1234, 487))), axis=1), cmap='gray')"
   ]
  },
  {
   "cell_type": "code",
   "execution_count": 40,
   "metadata": {},
   "outputs": [],
   "source": [
    "x = np.concatenate((png_imagelist[i].reshape(1234, 487), np.dot(X_train_pca[i], pca.components_).reshape(1234, 487), np.subtract(png_imagelist[i].reshape(1234, 487), np.dot(X_train_pca[i], pca.components_).reshape(1234, 487))), axis=1)"
   ]
  },
  {
   "cell_type": "code",
   "execution_count": 41,
   "metadata": {},
   "outputs": [
    {
     "data": {
      "text/plain": [
       "(1234, 1461)"
      ]
     },
     "execution_count": 41,
     "metadata": {},
     "output_type": "execute_result"
    }
   ],
   "source": [
    "x.shape"
   ]
  },
  {
   "cell_type": "code",
   "execution_count": 12,
   "metadata": {},
   "outputs": [
    {
     "ename": "NameError",
     "evalue": "name 'i' is not defined",
     "output_type": "error",
     "traceback": [
      "\u001b[0;31m---------------------------------------------------------------------------\u001b[0m",
      "\u001b[0;31mNameError\u001b[0m                                 Traceback (most recent call last)",
      "\u001b[0;32m<ipython-input-12-c8beac7ddd89>\u001b[0m in \u001b[0;36m<module>\u001b[0;34m\u001b[0m\n\u001b[1;32m      1\u001b[0m np.concatenate(\n\u001b[0;32m----> 2\u001b[0;31m (png_imagelist[i].reshape(1234, 487), \n\u001b[0m\u001b[1;32m      3\u001b[0m  np.subtract(png_imagelist[i].reshape(1234, 487), np.dot(X_train_pca[i], pca.components_).reshape(1234, 487))),\n\u001b[1;32m      4\u001b[0m     axis=1)\n",
      "\u001b[0;31mNameError\u001b[0m: name 'i' is not defined"
     ]
    }
   ],
   "source": [
    "np.concatenate(\n",
    "(png_imagelist[0].reshape(1234, 487), \n",
    " np.subtract(png_imagelist[0].reshape(1234, 487), np.dot(X_train_pca[0], pca.components_).reshape(1234, 487))),\n",
    "    axis=1)"
   ]
  },
  {
   "cell_type": "code",
   "execution_count": 13,
   "metadata": {},
   "outputs": [],
   "source": [
    "x1 = png_imagelist[0].reshape(1234, 487)\n",
    "x2 = png_imagelist[1].reshape(1234, 487)\n",
    "x3 = png_imagelist[2].reshape(1234, 487)"
   ]
  },
  {
   "cell_type": "code",
   "execution_count": 14,
   "metadata": {},
   "outputs": [
    {
     "data": {
      "text/plain": [
       "(1234, 487)"
      ]
     },
     "execution_count": 14,
     "metadata": {},
     "output_type": "execute_result"
    }
   ],
   "source": [
    "x2.shape"
   ]
  },
  {
   "cell_type": "code",
   "execution_count": 27,
   "metadata": {},
   "outputs": [
    {
     "data": {
      "text/plain": [
       "(1234, 1461)"
      ]
     },
     "execution_count": 27,
     "metadata": {},
     "output_type": "execute_result"
    }
   ],
   "source": [
    "np.concatenate((x1, x2, x3), axis=1).shape"
   ]
  },
  {
   "cell_type": "code",
   "execution_count": 20,
   "metadata": {},
   "outputs": [
    {
     "data": {
      "text/plain": [
       "(487,)"
      ]
     },
     "execution_count": 20,
     "metadata": {},
     "output_type": "execute_result"
    }
   ],
   "source": [
    "x1[0].shape"
   ]
  },
  {
   "cell_type": "code",
   "execution_count": 26,
   "metadata": {},
   "outputs": [
    {
     "data": {
      "text/plain": [
       "1461"
      ]
     },
     "execution_count": 26,
     "metadata": {},
     "output_type": "execute_result"
    }
   ],
   "source": [
    "487*3"
   ]
  },
  {
   "cell_type": "code",
   "execution_count": null,
   "metadata": {},
   "outputs": [],
   "source": []
  }
 ],
 "metadata": {
  "kernelspec": {
   "display_name": "Python 3",
   "language": "python",
   "name": "python3"
  },
  "language_info": {
   "codemirror_mode": {
    "name": "ipython",
    "version": 3
   },
   "file_extension": ".py",
   "mimetype": "text/x-python",
   "name": "python",
   "nbconvert_exporter": "python",
   "pygments_lexer": "ipython3",
   "version": "3.7.3"
  }
 },
 "nbformat": 4,
 "nbformat_minor": 2
}
