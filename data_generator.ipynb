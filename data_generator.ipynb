{
 "cells": [
  {
   "cell_type": "code",
   "execution_count": 1,
   "metadata": {},
   "outputs": [],
   "source": [
    "import numpy as np\n",
    "import cv2\n",
    "import matplotlib.image as mpimg\n",
    "import matplotlib.pyplot as plt\n",
    "from random import randint\n",
    "import random"
   ]
  },
  {
   "cell_type": "code",
   "execution_count": 2,
   "metadata": {},
   "outputs": [],
   "source": [
    "img_height = 1216\n",
    "img_width = 608\n",
    "min_noise = 50\n",
    "max_noise = 150\n",
    "min_radius = 1\n",
    "max_radius = 10\n",
    "num_channels = 4\n",
    "img_shape = (img_height, img_width, num_channels)\n",
    "num_classes = 1"
   ]
  },
  {
   "cell_type": "code",
   "execution_count": 3,
   "metadata": {},
   "outputs": [
    {
     "data": {
      "text/plain": [
       "(1216, 608, 4)"
      ]
     },
     "execution_count": 3,
     "metadata": {},
     "output_type": "execute_result"
    }
   ],
   "source": [
    "img_shape"
   ]
  },
  {
   "cell_type": "code",
   "execution_count": 4,
   "metadata": {},
   "outputs": [],
   "source": [
    "class draw_circle_by_opencv:\n",
    "    def draw_circle_on_image(img_height, img_width, min_noise, max_noise, min_radius, max_radius):\n",
    "        image = np.zeros([img_height, img_width,4])\n",
    "        background_color = random.uniform(0.5,1)\n",
    "        image[:,:] = (background_color,background_color ,background_color , 1)\n",
    "        \n",
    "        for _ in range(min_noise, max_noise):\n",
    "            radius = randint(min_radius, max_radius)\n",
    "            x = randint(0, img_width)\n",
    "            y = randint(0, img_height)\n",
    "            cv2.circle(image,(x, y), radius, (0,0,0,1), -1) # -1 means fill up\n",
    "        \n",
    "        return(image)"
   ]
  },
  {
   "cell_type": "code",
   "execution_count": 5,
   "metadata": {},
   "outputs": [],
   "source": [
    "#from skimage.io import imread\n",
    "def get_input():\n",
    "    \n",
    "    img = draw_circle_by_opencv.draw_circle_on_image(img_height, img_width, min_noise, max_noise, min_radius, max_radius) \n",
    "    \n",
    "    return(img)"
   ]
  },
  {
   "cell_type": "code",
   "execution_count": 6,
   "metadata": {},
   "outputs": [],
   "source": [
    "def get_output(input_image):\n",
    "    \n",
    "    input_image[input_image[:,:] == 0] = 1\n",
    "    input_image[input_image[:,:] != 1] = 0    \n",
    "    \n",
    "    return(input_image)"
   ]
  },
  {
   "cell_type": "code",
   "execution_count": 7,
   "metadata": {},
   "outputs": [],
   "source": [
    "# def preprocess_input(image):\n",
    "    \n",
    "#     --- Rescale Image\n",
    "#     --- Rotate Image\n",
    "#     --- Resize Image\n",
    "#     --- Flip Image\n",
    "#     --- PCA etc.\n",
    "    \n",
    "#     return(image)"
   ]
  },
  {
   "cell_type": "code",
   "execution_count": 8,
   "metadata": {},
   "outputs": [],
   "source": [
    "def image_generator(batch_size = 4):\n",
    "    \n",
    "    while True:\n",
    "        # Select files (paths/indices) for the batch\n",
    "\n",
    "        batch_input = []\n",
    "        batch_output = [] \n",
    "          \n",
    "        # Read in each input, perform preprocessing and get labels\n",
    "        for _ in range(batch_size):\n",
    "            input = get_input()\n",
    "            output = get_output(input)\n",
    "            \n",
    "            #input = preprocess_input(image=input)\n",
    "            batch_input.append(input)\n",
    "            batch_output.append(output)\n",
    "        # Return a tuple of (input,output) to feed the network\n",
    "        batch_x = np.array( batch_input )\n",
    "        batch_y = np.array( batch_output )\n",
    "        \n",
    "        yield( batch_x, batch_y )"
   ]
  },
  {
   "cell_type": "markdown",
   "metadata": {},
   "source": [
    "construct UNet"
   ]
  },
  {
   "cell_type": "code",
   "execution_count": 9,
   "metadata": {},
   "outputs": [
    {
     "name": "stderr",
     "output_type": "stream",
     "text": [
      "Using TensorFlow backend.\n"
     ]
    }
   ],
   "source": [
    "from keras import regularizers\n",
    "from keras.layers import BatchNormalization as BatchNorm\n",
    "from keras.models import Model, load_model\n",
    "from keras.layers import Input, Reshape, Activation\n",
    "from keras.layers.core import Lambda\n",
    "from keras.layers.convolutional import Conv2D, Conv2DTranspose, UpSampling2D\n",
    "from keras.layers.pooling import MaxPooling2D\n",
    "from keras.layers.merge import Concatenate\n",
    "from keras.callbacks import EarlyStopping, ModelCheckpoint, ReduceLROnPlateau\n",
    "from keras import backend as K\n",
    "from keras import layers"
   ]
  },
  {
   "cell_type": "code",
   "execution_count": 10,
   "metadata": {},
   "outputs": [],
   "source": [
    "def downsampling(x, level, filters, kernel_size, num_convs, conv_strides=1, activation = 'relu', batch_norm = False, pool_size = 2, pool_strides = 2, regularizer = None, regularizer_param = 0.001):\n",
    "    if regularizer is not None:\n",
    "        if regularizer == 'l2':\n",
    "            reg = regularizers.l2(regularizer_param)\n",
    "        elif regularizer == 'l1':\n",
    "            reg = regularizers.l1(regularizer_param)\n",
    "    else:\n",
    "        reg = None\n",
    "    for i in range(num_convs):\n",
    "        x = Conv2D(filters=filters, kernel_size=kernel_size, strides=conv_strides, padding='same', kernel_regularizer=reg, bias_regularizer=reg, name = 'downsampling_' + str(level) + '_conv_' + str(i))(x)\n",
    "        if batch_norm:\n",
    "            x = BatchNorm(name = 'downsampling_' + str(level) + '_batchnorm_' + str(i))(x)\n",
    "        x = Activation(activation, name = 'downsampling_' + str(level) + '_activation_' + str(i))(x)\n",
    "    skip = x\n",
    "    x = MaxPooling2D(pool_size=2, strides=2)(x)\n",
    "    return x, skip\n",
    "\n",
    "def bottleneck_dilated(x, filters, kernel_size, num_convs = 6, activation = 'relu', batch_norm = False, last_activation = False, regularizer = None, regularizer_param = 0.001):\n",
    "#     assert num_convs == len(conv_strides)\n",
    "    if regularizer is not None:\n",
    "        if regularizer == 'l2':\n",
    "            reg = regularizers.l2(regularizer_param)\n",
    "        elif regularizer == 'l1':\n",
    "            reg = regularizers.l1(regularizer_param)\n",
    "    else:\n",
    "        reg = None\n",
    "    skips = []\n",
    "    for i in range(num_convs):\n",
    "        x = Conv2D(filters=filters, kernel_size=kernel_size, strides=1, dilation_rate = 2 ** i, activation='relu', padding='same', kernel_regularizer=reg, bias_regularizer=reg, name = 'bottleneck_skip_' + str(i))(x)\n",
    "        skips.append(x)\n",
    "    x = layers.add(skips)\n",
    "    if last_activation:\n",
    "        x = Activation('relu')(x)\n",
    "    return x\n",
    "    \n",
    "def bottleneck(x, filters, kernel_size, num_convs, conv_strides=1, activation = 'relu', batch_norm = False, pool_size = 2, pool_strides = 2, regularizer = None, regularizer_param = 0.001):\n",
    "    if regularizer is not None:\n",
    "        if regularizer == 'l2':\n",
    "            reg = regularizers.l2(regularizer_param)\n",
    "        elif regularizer == 'l1':\n",
    "            reg = regularizers.l1(regularizer_param)\n",
    "    else:\n",
    "        reg = None\n",
    "    for i in range(num_convs):\n",
    "        x = Conv2D(filters=filters, kernel_size=3, strides=1, padding='same', kernel_regularizer=reg, bias_regularizer=reg, name = 'bottleneck_' + str(i))(x)\n",
    "        if batch_norm:\n",
    "            x = BatchNorm()(x)\n",
    "        x = Activation(activation)(x)\n",
    "    return x\n",
    "\n",
    "def upsampling(x, level, skip, filters, kernel_size, num_convs, conv_strides=1, activation = 'relu', batch_norm = False, conv_transpose = True, upsampling_size = 2, upsampling_strides = 2, regularizer = None, regularizer_param = 0.001):\n",
    "    if regularizer is not None:\n",
    "        if regularizer == 'l2':\n",
    "            reg = regularizers.l2(regularizer_param)\n",
    "        elif regularizer == 'l1':\n",
    "            reg = regularizers.l1(regularizer_param)\n",
    "    else:\n",
    "        reg = None\n",
    "    if conv_transpose:\n",
    "        x = Conv2DTranspose(filters=filters, kernel_size = upsampling_size, strides=upsampling_strides, name = 'upsampling_' + str(level) + '_conv_trans_' + str(level))(x)\n",
    "    else:\n",
    "        x = UpSampling2D((upsampling_size), name = 'upsampling_' + str(level) + '_ups_' + str(i))(x)\n",
    "    x = Concatenate()([x, skip])\n",
    "    for i in range(num_convs):\n",
    "        x = Conv2D(filters=filters, kernel_size=3, strides=1, padding='same', kernel_regularizer=reg, bias_regularizer=reg, name = 'upsampling_' + str(level) + '_conv_' + str(i))(x)\n",
    "        if batch_norm:\n",
    "            x = BatchNorm(name = 'upsampling_' + str(level) + '_batchnorm_' + str(i))(x)\n",
    "        x = Activation(activation, name = 'upsampling_' + str(level) + '_activation_' + str(i))(x)\n",
    "    return x\n",
    "\n",
    "def model_simple_unet_initializer(num_classes, num_levels, num_layers = 2, num_bottleneck = 2, filter_size_start = 16, batch_norm = False, kernel_size = 3, bottleneck_dilation = False, bottleneck_sum_activation = False, regularizer = None, regularizer_param = 0.001):\n",
    "    inputs = Input((img_shape))\n",
    "    x = inputs\n",
    "    skips = []\n",
    "    for i in range(num_levels):\n",
    "        x, skip = downsampling(x, i, filter_size_start * (2 ** i), kernel_size, num_layers, batch_norm=True, regularizer= regularizer, regularizer_param=regularizer_param)\n",
    "        skips.append(skip)\n",
    "    if bottleneck_dilation:\n",
    "        x = bottleneck_dilated(x, filter_size_start * (2 ** num_levels), kernel_size, num_bottleneck, batch_norm=True, last_activation=bottleneck_sum_activation, regularizer= regularizer, regularizer_param=regularizer_param)\n",
    "    else:\n",
    "        x = bottleneck(x, filter_size_start * (2 ** num_levels), kernel_size, num_bottleneck, batch_norm=True, regularizer=regularizer, regularizer_param=regularizer_param)\n",
    "    for j in range(num_levels):\n",
    "        x = upsampling(x, j, skips[num_levels - j - 1], filter_size_start * (2 ** (num_levels - j - 1)), kernel_size, num_layers, batch_norm=True, regularizer= regularizer, regularizer_param=regularizer_param)\n",
    "    outputs = Conv2D(filters=num_classes, kernel_size=1, strides=1, padding='same', activation='softmax', name = 'output_softmax')(x)\n",
    "    \n",
    "    model = Model(inputs = inputs, outputs = outputs)\n",
    "    model.compile(optimizer='adam', loss=jaccard_distance_loss, metrics=[dice_coef])\n",
    "    model.summary()\n",
    "    return model\n",
    "\n",
    "def model_train(model, x, y, epochs, num_test, early_stopper, patience_lr, model_name):\n",
    "    num_data = x.shape[0]\n",
    "    num_train = num_data - num_test\n",
    "    early_stopper = EarlyStopping(patience=early_stopper, verbose=1)\n",
    "    reduce_learning_rate = ReduceLROnPlateau(monitor='loss', factor = 0.75, patience = patience_lr, verbose=1)\n",
    "    checkpointer = ModelCheckpoint(model_name + '.h5', verbose=1, save_best_only=True)\n",
    "    checkpointer_train = ModelCheckpoint(model_name + 'best_train.h5', monitor='loss', verbose=1, save_best_only=True)\n",
    "    results = model.fit(x[0:num_train], y[0:num_train], validation_data=(x[num_train:], y[num_train:]), batch_size=5, epochs=epochs, callbacks=[early_stopper, checkpointer, checkpointer_train, reduce_learning_rate])\n",
    "    return model, results"
   ]
  },
  {
   "cell_type": "code",
   "execution_count": 11,
   "metadata": {},
   "outputs": [],
   "source": [
    "def jaccard_distance_loss(y_true, y_pred, smooth=100):\n",
    "    intersection = K.sum(K.abs(y_true * y_pred), axis=-1)\n",
    "    sum_ = K.sum(K.abs(y_true) + K.abs(y_pred), axis=-1)\n",
    "    jac = (intersection + smooth) / (sum_ - intersection + smooth)\n",
    "    loss = (1 - jac) * smooth\n",
    "#     print(loss.shape)\n",
    "#     print(loss)\n",
    "    return loss\n",
    "\n",
    "def dice_coef(y_true, y_pred, smooth=1):\n",
    "    intersection = K.sum(K.abs(y_true * y_pred), axis=-1)\n",
    "    return (2. * intersection + smooth) / (K.sum(K.square(y_true),-1) + K.sum(K.square(y_pred),-1) + smooth)"
   ]
  },
  {
   "cell_type": "code",
   "execution_count": 12,
   "metadata": {},
   "outputs": [
    {
     "name": "stdout",
     "output_type": "stream",
     "text": [
      "WARNING:tensorflow:From /home/chang_1909004/anaconda3/lib/python3.7/site-packages/tensorflow/python/framework/op_def_library.py:263: colocate_with (from tensorflow.python.framework.ops) is deprecated and will be removed in a future version.\n",
      "Instructions for updating:\n",
      "Colocations handled automatically by placer.\n",
      "__________________________________________________________________________________________________\n",
      "Layer (type)                    Output Shape         Param #     Connected to                     \n",
      "==================================================================================================\n",
      "input_1 (InputLayer)            (None, 1216, 608, 4) 0                                            \n",
      "__________________________________________________________________________________________________\n",
      "downsampling_0_conv_0 (Conv2D)  (None, 1216, 608, 16 592         input_1[0][0]                    \n",
      "__________________________________________________________________________________________________\n",
      "downsampling_0_batchnorm_0 (Bat (None, 1216, 608, 16 64          downsampling_0_conv_0[0][0]      \n",
      "__________________________________________________________________________________________________\n",
      "downsampling_0_activation_0 (Ac (None, 1216, 608, 16 0           downsampling_0_batchnorm_0[0][0] \n",
      "__________________________________________________________________________________________________\n",
      "downsampling_0_conv_1 (Conv2D)  (None, 1216, 608, 16 2320        downsampling_0_activation_0[0][0]\n",
      "__________________________________________________________________________________________________\n",
      "downsampling_0_batchnorm_1 (Bat (None, 1216, 608, 16 64          downsampling_0_conv_1[0][0]      \n",
      "__________________________________________________________________________________________________\n",
      "downsampling_0_activation_1 (Ac (None, 1216, 608, 16 0           downsampling_0_batchnorm_1[0][0] \n",
      "__________________________________________________________________________________________________\n",
      "max_pooling2d_1 (MaxPooling2D)  (None, 608, 304, 16) 0           downsampling_0_activation_1[0][0]\n",
      "__________________________________________________________________________________________________\n",
      "downsampling_1_conv_0 (Conv2D)  (None, 608, 304, 32) 4640        max_pooling2d_1[0][0]            \n",
      "__________________________________________________________________________________________________\n",
      "downsampling_1_batchnorm_0 (Bat (None, 608, 304, 32) 128         downsampling_1_conv_0[0][0]      \n",
      "__________________________________________________________________________________________________\n",
      "downsampling_1_activation_0 (Ac (None, 608, 304, 32) 0           downsampling_1_batchnorm_0[0][0] \n",
      "__________________________________________________________________________________________________\n",
      "downsampling_1_conv_1 (Conv2D)  (None, 608, 304, 32) 9248        downsampling_1_activation_0[0][0]\n",
      "__________________________________________________________________________________________________\n",
      "downsampling_1_batchnorm_1 (Bat (None, 608, 304, 32) 128         downsampling_1_conv_1[0][0]      \n",
      "__________________________________________________________________________________________________\n",
      "downsampling_1_activation_1 (Ac (None, 608, 304, 32) 0           downsampling_1_batchnorm_1[0][0] \n",
      "__________________________________________________________________________________________________\n",
      "max_pooling2d_2 (MaxPooling2D)  (None, 304, 152, 32) 0           downsampling_1_activation_1[0][0]\n",
      "__________________________________________________________________________________________________\n",
      "downsampling_2_conv_0 (Conv2D)  (None, 304, 152, 64) 18496       max_pooling2d_2[0][0]            \n",
      "__________________________________________________________________________________________________\n",
      "downsampling_2_batchnorm_0 (Bat (None, 304, 152, 64) 256         downsampling_2_conv_0[0][0]      \n",
      "__________________________________________________________________________________________________\n",
      "downsampling_2_activation_0 (Ac (None, 304, 152, 64) 0           downsampling_2_batchnorm_0[0][0] \n",
      "__________________________________________________________________________________________________\n",
      "downsampling_2_conv_1 (Conv2D)  (None, 304, 152, 64) 36928       downsampling_2_activation_0[0][0]\n",
      "__________________________________________________________________________________________________\n",
      "downsampling_2_batchnorm_1 (Bat (None, 304, 152, 64) 256         downsampling_2_conv_1[0][0]      \n",
      "__________________________________________________________________________________________________\n",
      "downsampling_2_activation_1 (Ac (None, 304, 152, 64) 0           downsampling_2_batchnorm_1[0][0] \n",
      "__________________________________________________________________________________________________\n",
      "max_pooling2d_3 (MaxPooling2D)  (None, 152, 76, 64)  0           downsampling_2_activation_1[0][0]\n",
      "__________________________________________________________________________________________________\n",
      "downsampling_3_conv_0 (Conv2D)  (None, 152, 76, 128) 73856       max_pooling2d_3[0][0]            \n",
      "__________________________________________________________________________________________________\n",
      "downsampling_3_batchnorm_0 (Bat (None, 152, 76, 128) 512         downsampling_3_conv_0[0][0]      \n",
      "__________________________________________________________________________________________________\n",
      "downsampling_3_activation_0 (Ac (None, 152, 76, 128) 0           downsampling_3_batchnorm_0[0][0] \n",
      "__________________________________________________________________________________________________\n",
      "downsampling_3_conv_1 (Conv2D)  (None, 152, 76, 128) 147584      downsampling_3_activation_0[0][0]\n",
      "__________________________________________________________________________________________________\n",
      "downsampling_3_batchnorm_1 (Bat (None, 152, 76, 128) 512         downsampling_3_conv_1[0][0]      \n",
      "__________________________________________________________________________________________________\n",
      "downsampling_3_activation_1 (Ac (None, 152, 76, 128) 0           downsampling_3_batchnorm_1[0][0] \n",
      "__________________________________________________________________________________________________\n",
      "max_pooling2d_4 (MaxPooling2D)  (None, 76, 38, 128)  0           downsampling_3_activation_1[0][0]\n",
      "__________________________________________________________________________________________________\n",
      "bottleneck_skip_0 (Conv2D)      (None, 76, 38, 256)  295168      max_pooling2d_4[0][0]            \n",
      "__________________________________________________________________________________________________\n",
      "bottleneck_skip_1 (Conv2D)      (None, 76, 38, 256)  590080      bottleneck_skip_0[0][0]          \n",
      "__________________________________________________________________________________________________\n",
      "bottleneck_skip_2 (Conv2D)      (None, 76, 38, 256)  590080      bottleneck_skip_1[0][0]          \n",
      "__________________________________________________________________________________________________\n",
      "bottleneck_skip_3 (Conv2D)      (None, 76, 38, 256)  590080      bottleneck_skip_2[0][0]          \n",
      "__________________________________________________________________________________________________\n",
      "bottleneck_skip_4 (Conv2D)      (None, 76, 38, 256)  590080      bottleneck_skip_3[0][0]          \n",
      "__________________________________________________________________________________________________\n",
      "add_1 (Add)                     (None, 76, 38, 256)  0           bottleneck_skip_0[0][0]          \n",
      "                                                                 bottleneck_skip_1[0][0]          \n",
      "                                                                 bottleneck_skip_2[0][0]          \n",
      "                                                                 bottleneck_skip_3[0][0]          \n",
      "                                                                 bottleneck_skip_4[0][0]          \n",
      "__________________________________________________________________________________________________\n",
      "upsampling_0_conv_trans_0 (Conv (None, 152, 76, 128) 131200      add_1[0][0]                      \n",
      "__________________________________________________________________________________________________\n",
      "concatenate_1 (Concatenate)     (None, 152, 76, 256) 0           upsampling_0_conv_trans_0[0][0]  \n",
      "                                                                 downsampling_3_activation_1[0][0]\n",
      "__________________________________________________________________________________________________\n",
      "upsampling_0_conv_0 (Conv2D)    (None, 152, 76, 128) 295040      concatenate_1[0][0]              \n",
      "__________________________________________________________________________________________________\n",
      "upsampling_0_batchnorm_0 (Batch (None, 152, 76, 128) 512         upsampling_0_conv_0[0][0]        \n",
      "__________________________________________________________________________________________________\n",
      "upsampling_0_activation_0 (Acti (None, 152, 76, 128) 0           upsampling_0_batchnorm_0[0][0]   \n",
      "__________________________________________________________________________________________________\n",
      "upsampling_0_conv_1 (Conv2D)    (None, 152, 76, 128) 147584      upsampling_0_activation_0[0][0]  \n",
      "__________________________________________________________________________________________________\n",
      "upsampling_0_batchnorm_1 (Batch (None, 152, 76, 128) 512         upsampling_0_conv_1[0][0]        \n",
      "__________________________________________________________________________________________________\n",
      "upsampling_0_activation_1 (Acti (None, 152, 76, 128) 0           upsampling_0_batchnorm_1[0][0]   \n",
      "__________________________________________________________________________________________________\n",
      "upsampling_1_conv_trans_1 (Conv (None, 304, 152, 64) 32832       upsampling_0_activation_1[0][0]  \n",
      "__________________________________________________________________________________________________\n",
      "concatenate_2 (Concatenate)     (None, 304, 152, 128 0           upsampling_1_conv_trans_1[0][0]  \n",
      "                                                                 downsampling_2_activation_1[0][0]\n",
      "__________________________________________________________________________________________________\n",
      "upsampling_1_conv_0 (Conv2D)    (None, 304, 152, 64) 73792       concatenate_2[0][0]              \n",
      "__________________________________________________________________________________________________\n",
      "upsampling_1_batchnorm_0 (Batch (None, 304, 152, 64) 256         upsampling_1_conv_0[0][0]        \n",
      "__________________________________________________________________________________________________\n",
      "upsampling_1_activation_0 (Acti (None, 304, 152, 64) 0           upsampling_1_batchnorm_0[0][0]   \n",
      "__________________________________________________________________________________________________\n",
      "upsampling_1_conv_1 (Conv2D)    (None, 304, 152, 64) 36928       upsampling_1_activation_0[0][0]  \n",
      "__________________________________________________________________________________________________\n",
      "upsampling_1_batchnorm_1 (Batch (None, 304, 152, 64) 256         upsampling_1_conv_1[0][0]        \n",
      "__________________________________________________________________________________________________\n",
      "upsampling_1_activation_1 (Acti (None, 304, 152, 64) 0           upsampling_1_batchnorm_1[0][0]   \n",
      "__________________________________________________________________________________________________\n",
      "upsampling_2_conv_trans_2 (Conv (None, 608, 304, 32) 8224        upsampling_1_activation_1[0][0]  \n",
      "__________________________________________________________________________________________________\n",
      "concatenate_3 (Concatenate)     (None, 608, 304, 64) 0           upsampling_2_conv_trans_2[0][0]  \n",
      "                                                                 downsampling_1_activation_1[0][0]\n",
      "__________________________________________________________________________________________________\n",
      "upsampling_2_conv_0 (Conv2D)    (None, 608, 304, 32) 18464       concatenate_3[0][0]              \n",
      "__________________________________________________________________________________________________\n",
      "upsampling_2_batchnorm_0 (Batch (None, 608, 304, 32) 128         upsampling_2_conv_0[0][0]        \n",
      "__________________________________________________________________________________________________\n",
      "upsampling_2_activation_0 (Acti (None, 608, 304, 32) 0           upsampling_2_batchnorm_0[0][0]   \n",
      "__________________________________________________________________________________________________\n",
      "upsampling_2_conv_1 (Conv2D)    (None, 608, 304, 32) 9248        upsampling_2_activation_0[0][0]  \n",
      "__________________________________________________________________________________________________\n",
      "upsampling_2_batchnorm_1 (Batch (None, 608, 304, 32) 128         upsampling_2_conv_1[0][0]        \n",
      "__________________________________________________________________________________________________\n",
      "upsampling_2_activation_1 (Acti (None, 608, 304, 32) 0           upsampling_2_batchnorm_1[0][0]   \n",
      "__________________________________________________________________________________________________\n",
      "upsampling_3_conv_trans_3 (Conv (None, 1216, 608, 16 2064        upsampling_2_activation_1[0][0]  \n",
      "__________________________________________________________________________________________________\n",
      "concatenate_4 (Concatenate)     (None, 1216, 608, 32 0           upsampling_3_conv_trans_3[0][0]  \n",
      "                                                                 downsampling_0_activation_1[0][0]\n",
      "__________________________________________________________________________________________________\n",
      "upsampling_3_conv_0 (Conv2D)    (None, 1216, 608, 16 4624        concatenate_4[0][0]              \n",
      "__________________________________________________________________________________________________\n",
      "upsampling_3_batchnorm_0 (Batch (None, 1216, 608, 16 64          upsampling_3_conv_0[0][0]        \n",
      "__________________________________________________________________________________________________\n",
      "upsampling_3_activation_0 (Acti (None, 1216, 608, 16 0           upsampling_3_batchnorm_0[0][0]   \n",
      "__________________________________________________________________________________________________\n",
      "upsampling_3_conv_1 (Conv2D)    (None, 1216, 608, 16 2320        upsampling_3_activation_0[0][0]  \n",
      "__________________________________________________________________________________________________\n",
      "upsampling_3_batchnorm_1 (Batch (None, 1216, 608, 16 64          upsampling_3_conv_1[0][0]        \n",
      "__________________________________________________________________________________________________\n",
      "upsampling_3_activation_1 (Acti (None, 1216, 608, 16 0           upsampling_3_batchnorm_1[0][0]   \n",
      "__________________________________________________________________________________________________\n",
      "output_softmax (Conv2D)         (None, 1216, 608, 1) 17          upsampling_3_activation_1[0][0]  \n",
      "==================================================================================================\n",
      "Total params: 3,715,329\n",
      "Trainable params: 3,713,409\n",
      "Non-trainable params: 1,920\n",
      "__________________________________________________________________________________________________\n"
     ]
    }
   ],
   "source": [
    "model1 = model_simple_unet_initializer(1, 4, 2, 5, 16, True, 3, True, False, 'l2', 0.001)"
   ]
  },
  {
   "cell_type": "code",
   "execution_count": 13,
   "metadata": {
    "scrolled": true
   },
   "outputs": [
    {
     "name": "stdout",
     "output_type": "stream",
     "text": [
      "WARNING:tensorflow:From /home/chang_1909004/anaconda3/lib/python3.7/site-packages/tensorflow/python/ops/math_ops.py:3066: to_int32 (from tensorflow.python.ops.math_ops) is deprecated and will be removed in a future version.\n",
      "Instructions for updating:\n",
      "Use tf.cast instead.\n",
      "WARNING:tensorflow:From /home/chang_1909004/anaconda3/lib/python3.7/site-packages/tensorflow/python/ops/math_grad.py:102: div (from tensorflow.python.ops.math_ops) is deprecated and will be removed in a future version.\n",
      "Instructions for updating:\n",
      "Deprecated in favor of operator or tf.math.divide.\n",
      "Epoch 1/2\n",
      "100/100 [==============================] - 106s 1s/step - loss: 3.1470 - dice_coef: 1.0080\n",
      "Epoch 2/2\n",
      "100/100 [==============================] - 93s 934ms/step - loss: 2.8403 - dice_coef: 1.0080\n"
     ]
    },
    {
     "data": {
      "text/plain": [
       "<keras.callbacks.History at 0x7f1e346f1668>"
      ]
     },
     "execution_count": 13,
     "metadata": {},
     "output_type": "execute_result"
    }
   ],
   "source": [
    "model1.fit_generator(\n",
    "                    image_generator(),\n",
    "                    steps_per_epoch = 100, \n",
    "                    epochs=2,\n",
    "                    verbose=1\n",
    "                    )"
   ]
  },
  {
   "cell_type": "code",
   "execution_count": 14,
   "metadata": {},
   "outputs": [],
   "source": [
    "test_photo = plt.imread('x.png')"
   ]
  },
  {
   "cell_type": "code",
   "execution_count": 15,
   "metadata": {},
   "outputs": [
    {
     "data": {
      "text/plain": [
       "<matplotlib.image.AxesImage at 0x7f1d78421a58>"
      ]
     },
     "execution_count": 15,
     "metadata": {},
     "output_type": "execute_result"
    },
    {
     "data": {
      "image/png": "[encoded data removed]",
      "text/plain": [
       "<Figure size 432x288 with 1 Axes>"
      ]
     },
     "metadata": {
      "needs_background": "light"
     },
     "output_type": "display_data"
    }
   ],
   "source": [
    "plt.imshow(test_photo)"
   ]
  },
  {
   "cell_type": "code",
   "execution_count": 16,
   "metadata": {},
   "outputs": [
    {
     "data": {
      "text/plain": [
       "(1234, 608, 4)"
      ]
     },
     "execution_count": 16,
     "metadata": {},
     "output_type": "execute_result"
    }
   ],
   "source": [
    "test_photo.shape"
   ]
  },
  {
   "cell_type": "code",
   "execution_count": 17,
   "metadata": {},
   "outputs": [],
   "source": [
    "res = cv2.resize(test_photo, dsize=(608, 1216), interpolation=cv2.INTER_CUBIC)"
   ]
  },
  {
   "cell_type": "code",
   "execution_count": 18,
   "metadata": {},
   "outputs": [
    {
     "data": {
      "text/plain": [
       "(1216, 608, 4)"
      ]
     },
     "execution_count": 18,
     "metadata": {},
     "output_type": "execute_result"
    }
   ],
   "source": [
    "res.shape"
   ]
  },
  {
   "cell_type": "code",
   "execution_count": 19,
   "metadata": {},
   "outputs": [
    {
     "name": "stderr",
     "output_type": "stream",
     "text": [
      "Clipping input data to the valid range for imshow with RGB data ([0..1] for floats or [0..255] for integers).\n"
     ]
    },
    {
     "data": {
      "text/plain": [
       "<matplotlib.image.AxesImage at 0x7f1d7811f6d8>"
      ]
     },
     "execution_count": 19,
     "metadata": {},
     "output_type": "execute_result"
    },
    {
     "data": {
      "image/png": "[encoded data removed]",
      "text/plain": [
       "<Figure size 432x288 with 1 Axes>"
      ]
     },
     "metadata": {
      "needs_background": "light"
     },
     "output_type": "display_data"
    }
   ],
   "source": [
    "plt.imshow(res)"
   ]
  },
  {
   "cell_type": "code",
   "execution_count": 20,
   "metadata": {},
   "outputs": [
    {
     "ename": "ValueError",
     "evalue": "Error when checking : expected input_1 to have 4 dimensions, but got array with shape (1216, 608, 4)",
     "output_type": "error",
     "traceback": [
      "\u001b[0;31m---------------------------------------------------------------------------\u001b[0m",
      "\u001b[0;31mValueError\u001b[0m                                Traceback (most recent call last)",
      "\u001b[0;32m<ipython-input-20-cd25c5b996f8>\u001b[0m in \u001b[0;36m<module>\u001b[0;34m\u001b[0m\n\u001b[0;32m----> 1\u001b[0;31m \u001b[0mmodel1\u001b[0m\u001b[0;34m.\u001b[0m\u001b[0mpredict\u001b[0m\u001b[0;34m(\u001b[0m\u001b[0mres\u001b[0m\u001b[0;34m)\u001b[0m\u001b[0;34m\u001b[0m\u001b[0;34m\u001b[0m\u001b[0m\n\u001b[0m",
      "\u001b[0;32m~/anaconda3/lib/python3.7/site-packages/keras/engine/training.py\u001b[0m in \u001b[0;36mpredict\u001b[0;34m(self, x, batch_size, verbose, steps)\u001b[0m\n\u001b[1;32m   1815\u001b[0m         x = _standardize_input_data(x, self._feed_input_names,\n\u001b[1;32m   1816\u001b[0m                                     \u001b[0mself\u001b[0m\u001b[0;34m.\u001b[0m\u001b[0m_feed_input_shapes\u001b[0m\u001b[0;34m,\u001b[0m\u001b[0;34m\u001b[0m\u001b[0;34m\u001b[0m\u001b[0m\n\u001b[0;32m-> 1817\u001b[0;31m                                     check_batch_axis=False)\n\u001b[0m\u001b[1;32m   1818\u001b[0m         \u001b[0;32mif\u001b[0m \u001b[0mself\u001b[0m\u001b[0;34m.\u001b[0m\u001b[0mstateful\u001b[0m\u001b[0;34m:\u001b[0m\u001b[0;34m\u001b[0m\u001b[0;34m\u001b[0m\u001b[0m\n\u001b[1;32m   1819\u001b[0m             \u001b[0;32mif\u001b[0m \u001b[0mx\u001b[0m\u001b[0;34m[\u001b[0m\u001b[0;36m0\u001b[0m\u001b[0;34m]\u001b[0m\u001b[0;34m.\u001b[0m\u001b[0mshape\u001b[0m\u001b[0;34m[\u001b[0m\u001b[0;36m0\u001b[0m\u001b[0;34m]\u001b[0m \u001b[0;34m>\u001b[0m \u001b[0mbatch_size\u001b[0m \u001b[0;32mand\u001b[0m \u001b[0mx\u001b[0m\u001b[0;34m[\u001b[0m\u001b[0;36m0\u001b[0m\u001b[0;34m]\u001b[0m\u001b[0;34m.\u001b[0m\u001b[0mshape\u001b[0m\u001b[0;34m[\u001b[0m\u001b[0;36m0\u001b[0m\u001b[0;34m]\u001b[0m \u001b[0;34m%\u001b[0m \u001b[0mbatch_size\u001b[0m \u001b[0;34m!=\u001b[0m \u001b[0;36m0\u001b[0m\u001b[0;34m:\u001b[0m\u001b[0;34m\u001b[0m\u001b[0;34m\u001b[0m\u001b[0m\n",
      "\u001b[0;32m~/anaconda3/lib/python3.7/site-packages/keras/engine/training.py\u001b[0m in \u001b[0;36m_standardize_input_data\u001b[0;34m(data, names, shapes, check_batch_axis, exception_prefix)\u001b[0m\n\u001b[1;32m    111\u001b[0m                         \u001b[0;34m': expected '\u001b[0m \u001b[0;34m+\u001b[0m \u001b[0mnames\u001b[0m\u001b[0;34m[\u001b[0m\u001b[0mi\u001b[0m\u001b[0;34m]\u001b[0m \u001b[0;34m+\u001b[0m \u001b[0;34m' to have '\u001b[0m \u001b[0;34m+\u001b[0m\u001b[0;34m\u001b[0m\u001b[0;34m\u001b[0m\u001b[0m\n\u001b[1;32m    112\u001b[0m                         \u001b[0mstr\u001b[0m\u001b[0;34m(\u001b[0m\u001b[0mlen\u001b[0m\u001b[0;34m(\u001b[0m\u001b[0mshape\u001b[0m\u001b[0;34m)\u001b[0m\u001b[0;34m)\u001b[0m \u001b[0;34m+\u001b[0m \u001b[0;34m' dimensions, but got array '\u001b[0m\u001b[0;34m\u001b[0m\u001b[0;34m\u001b[0m\u001b[0m\n\u001b[0;32m--> 113\u001b[0;31m                         'with shape ' + str(data_shape))\n\u001b[0m\u001b[1;32m    114\u001b[0m                 \u001b[0;32mif\u001b[0m \u001b[0;32mnot\u001b[0m \u001b[0mcheck_batch_axis\u001b[0m\u001b[0;34m:\u001b[0m\u001b[0;34m\u001b[0m\u001b[0;34m\u001b[0m\u001b[0m\n\u001b[1;32m    115\u001b[0m                     \u001b[0mdata_shape\u001b[0m \u001b[0;34m=\u001b[0m \u001b[0mdata_shape\u001b[0m\u001b[0;34m[\u001b[0m\u001b[0;36m1\u001b[0m\u001b[0;34m:\u001b[0m\u001b[0;34m]\u001b[0m\u001b[0;34m\u001b[0m\u001b[0;34m\u001b[0m\u001b[0m\n",
      "\u001b[0;31mValueError\u001b[0m: Error when checking : expected input_1 to have 4 dimensions, but got array with shape (1216, 608, 4)"
     ]
    }
   ],
   "source": [
    "model1.predict(res)"
   ]
  },
  {
   "cell_type": "code",
   "execution_count": 54,
   "metadata": {},
   "outputs": [],
   "source": [
    "res_list = []\n",
    "for i in range(4):\n",
    "    res_list.append(res)"
   ]
  },
  {
   "cell_type": "code",
   "execution_count": 65,
   "metadata": {
    "scrolled": true
   },
   "outputs": [
    {
     "ename": "ValueError",
     "evalue": "Error when checking : expected input_1 to have 4 dimensions, but got array with shape (1216, 608, 4)",
     "output_type": "error",
     "traceback": [
      "\u001b[0;31m---------------------------------------------------------------------------\u001b[0m",
      "\u001b[0;31mValueError\u001b[0m                                Traceback (most recent call last)",
      "\u001b[0;32m<ipython-input-65-cd25c5b996f8>\u001b[0m in \u001b[0;36m<module>\u001b[0;34m\u001b[0m\n\u001b[0;32m----> 1\u001b[0;31m \u001b[0mmodel1\u001b[0m\u001b[0;34m.\u001b[0m\u001b[0mpredict\u001b[0m\u001b[0;34m(\u001b[0m\u001b[0mres\u001b[0m\u001b[0;34m)\u001b[0m\u001b[0;34m\u001b[0m\u001b[0;34m\u001b[0m\u001b[0m\n\u001b[0m",
      "\u001b[0;32m~/anaconda3/lib/python3.7/site-packages/keras/engine/training.py\u001b[0m in \u001b[0;36mpredict\u001b[0;34m(self, x, batch_size, verbose, steps)\u001b[0m\n\u001b[1;32m   1815\u001b[0m         x = _standardize_input_data(x, self._feed_input_names,\n\u001b[1;32m   1816\u001b[0m                                     \u001b[0mself\u001b[0m\u001b[0;34m.\u001b[0m\u001b[0m_feed_input_shapes\u001b[0m\u001b[0;34m,\u001b[0m\u001b[0;34m\u001b[0m\u001b[0;34m\u001b[0m\u001b[0m\n\u001b[0;32m-> 1817\u001b[0;31m                                     check_batch_axis=False)\n\u001b[0m\u001b[1;32m   1818\u001b[0m         \u001b[0;32mif\u001b[0m \u001b[0mself\u001b[0m\u001b[0;34m.\u001b[0m\u001b[0mstateful\u001b[0m\u001b[0;34m:\u001b[0m\u001b[0;34m\u001b[0m\u001b[0;34m\u001b[0m\u001b[0m\n\u001b[1;32m   1819\u001b[0m             \u001b[0;32mif\u001b[0m \u001b[0mx\u001b[0m\u001b[0;34m[\u001b[0m\u001b[0;36m0\u001b[0m\u001b[0;34m]\u001b[0m\u001b[0;34m.\u001b[0m\u001b[0mshape\u001b[0m\u001b[0;34m[\u001b[0m\u001b[0;36m0\u001b[0m\u001b[0;34m]\u001b[0m \u001b[0;34m>\u001b[0m \u001b[0mbatch_size\u001b[0m \u001b[0;32mand\u001b[0m \u001b[0mx\u001b[0m\u001b[0;34m[\u001b[0m\u001b[0;36m0\u001b[0m\u001b[0;34m]\u001b[0m\u001b[0;34m.\u001b[0m\u001b[0mshape\u001b[0m\u001b[0;34m[\u001b[0m\u001b[0;36m0\u001b[0m\u001b[0;34m]\u001b[0m \u001b[0;34m%\u001b[0m \u001b[0mbatch_size\u001b[0m \u001b[0;34m!=\u001b[0m \u001b[0;36m0\u001b[0m\u001b[0;34m:\u001b[0m\u001b[0;34m\u001b[0m\u001b[0;34m\u001b[0m\u001b[0m\n",
      "\u001b[0;32m~/anaconda3/lib/python3.7/site-packages/keras/engine/training.py\u001b[0m in \u001b[0;36m_standardize_input_data\u001b[0;34m(data, names, shapes, check_batch_axis, exception_prefix)\u001b[0m\n\u001b[1;32m    111\u001b[0m                         \u001b[0;34m': expected '\u001b[0m \u001b[0;34m+\u001b[0m \u001b[0mnames\u001b[0m\u001b[0;34m[\u001b[0m\u001b[0mi\u001b[0m\u001b[0;34m]\u001b[0m \u001b[0;34m+\u001b[0m \u001b[0;34m' to have '\u001b[0m \u001b[0;34m+\u001b[0m\u001b[0;34m\u001b[0m\u001b[0;34m\u001b[0m\u001b[0m\n\u001b[1;32m    112\u001b[0m                         \u001b[0mstr\u001b[0m\u001b[0;34m(\u001b[0m\u001b[0mlen\u001b[0m\u001b[0;34m(\u001b[0m\u001b[0mshape\u001b[0m\u001b[0;34m)\u001b[0m\u001b[0;34m)\u001b[0m \u001b[0;34m+\u001b[0m \u001b[0;34m' dimensions, but got array '\u001b[0m\u001b[0;34m\u001b[0m\u001b[0;34m\u001b[0m\u001b[0m\n\u001b[0;32m--> 113\u001b[0;31m                         'with shape ' + str(data_shape))\n\u001b[0m\u001b[1;32m    114\u001b[0m                 \u001b[0;32mif\u001b[0m \u001b[0;32mnot\u001b[0m \u001b[0mcheck_batch_axis\u001b[0m\u001b[0;34m:\u001b[0m\u001b[0;34m\u001b[0m\u001b[0;34m\u001b[0m\u001b[0m\n\u001b[1;32m    115\u001b[0m                     \u001b[0mdata_shape\u001b[0m \u001b[0;34m=\u001b[0m \u001b[0mdata_shape\u001b[0m\u001b[0;34m[\u001b[0m\u001b[0;36m1\u001b[0m\u001b[0;34m:\u001b[0m\u001b[0;34m]\u001b[0m\u001b[0;34m\u001b[0m\u001b[0;34m\u001b[0m\u001b[0m\n",
      "\u001b[0;31mValueError\u001b[0m: Error when checking : expected input_1 to have 4 dimensions, but got array with shape (1216, 608, 4)"
     ]
    }
   ],
   "source": [
    "model1.predict(res)"
   ]
  },
  {
   "cell_type": "code",
   "execution_count": 53,
   "metadata": {},
   "outputs": [
    {
     "name": "stdout",
     "output_type": "stream",
     "text": [
      "__________________________________________________________________________________________________\n",
      "Layer (type)                    Output Shape         Param #     Connected to                     \n",
      "==================================================================================================\n",
      "input_1 (InputLayer)            (None, 1216, 608, 4) 0                                            \n",
      "__________________________________________________________________________________________________\n",
      "downsampling_0_conv_0 (Conv2D)  (None, 1216, 608, 16 592         input_1[0][0]                    \n",
      "__________________________________________________________________________________________________\n",
      "downsampling_0_batchnorm_0 (Bat (None, 1216, 608, 16 64          downsampling_0_conv_0[0][0]      \n",
      "__________________________________________________________________________________________________\n",
      "downsampling_0_activation_0 (Ac (None, 1216, 608, 16 0           downsampling_0_batchnorm_0[0][0] \n",
      "__________________________________________________________________________________________________\n",
      "downsampling_0_conv_1 (Conv2D)  (None, 1216, 608, 16 2320        downsampling_0_activation_0[0][0]\n",
      "__________________________________________________________________________________________________\n",
      "downsampling_0_batchnorm_1 (Bat (None, 1216, 608, 16 64          downsampling_0_conv_1[0][0]      \n",
      "__________________________________________________________________________________________________\n",
      "downsampling_0_activation_1 (Ac (None, 1216, 608, 16 0           downsampling_0_batchnorm_1[0][0] \n",
      "__________________________________________________________________________________________________\n",
      "max_pooling2d_1 (MaxPooling2D)  (None, 608, 304, 16) 0           downsampling_0_activation_1[0][0]\n",
      "__________________________________________________________________________________________________\n",
      "downsampling_1_conv_0 (Conv2D)  (None, 608, 304, 32) 4640        max_pooling2d_1[0][0]            \n",
      "__________________________________________________________________________________________________\n",
      "downsampling_1_batchnorm_0 (Bat (None, 608, 304, 32) 128         downsampling_1_conv_0[0][0]      \n",
      "__________________________________________________________________________________________________\n",
      "downsampling_1_activation_0 (Ac (None, 608, 304, 32) 0           downsampling_1_batchnorm_0[0][0] \n",
      "__________________________________________________________________________________________________\n",
      "downsampling_1_conv_1 (Conv2D)  (None, 608, 304, 32) 9248        downsampling_1_activation_0[0][0]\n",
      "__________________________________________________________________________________________________\n",
      "downsampling_1_batchnorm_1 (Bat (None, 608, 304, 32) 128         downsampling_1_conv_1[0][0]      \n",
      "__________________________________________________________________________________________________\n",
      "downsampling_1_activation_1 (Ac (None, 608, 304, 32) 0           downsampling_1_batchnorm_1[0][0] \n",
      "__________________________________________________________________________________________________\n",
      "max_pooling2d_2 (MaxPooling2D)  (None, 304, 152, 32) 0           downsampling_1_activation_1[0][0]\n",
      "__________________________________________________________________________________________________\n",
      "downsampling_2_conv_0 (Conv2D)  (None, 304, 152, 64) 18496       max_pooling2d_2[0][0]            \n",
      "__________________________________________________________________________________________________\n",
      "downsampling_2_batchnorm_0 (Bat (None, 304, 152, 64) 256         downsampling_2_conv_0[0][0]      \n",
      "__________________________________________________________________________________________________\n",
      "downsampling_2_activation_0 (Ac (None, 304, 152, 64) 0           downsampling_2_batchnorm_0[0][0] \n",
      "__________________________________________________________________________________________________\n",
      "downsampling_2_conv_1 (Conv2D)  (None, 304, 152, 64) 36928       downsampling_2_activation_0[0][0]\n",
      "__________________________________________________________________________________________________\n",
      "downsampling_2_batchnorm_1 (Bat (None, 304, 152, 64) 256         downsampling_2_conv_1[0][0]      \n",
      "__________________________________________________________________________________________________\n",
      "downsampling_2_activation_1 (Ac (None, 304, 152, 64) 0           downsampling_2_batchnorm_1[0][0] \n",
      "__________________________________________________________________________________________________\n",
      "max_pooling2d_3 (MaxPooling2D)  (None, 152, 76, 64)  0           downsampling_2_activation_1[0][0]\n",
      "__________________________________________________________________________________________________\n",
      "downsampling_3_conv_0 (Conv2D)  (None, 152, 76, 128) 73856       max_pooling2d_3[0][0]            \n",
      "__________________________________________________________________________________________________\n",
      "downsampling_3_batchnorm_0 (Bat (None, 152, 76, 128) 512         downsampling_3_conv_0[0][0]      \n",
      "__________________________________________________________________________________________________\n",
      "downsampling_3_activation_0 (Ac (None, 152, 76, 128) 0           downsampling_3_batchnorm_0[0][0] \n",
      "__________________________________________________________________________________________________\n",
      "downsampling_3_conv_1 (Conv2D)  (None, 152, 76, 128) 147584      downsampling_3_activation_0[0][0]\n",
      "__________________________________________________________________________________________________\n",
      "downsampling_3_batchnorm_1 (Bat (None, 152, 76, 128) 512         downsampling_3_conv_1[0][0]      \n",
      "__________________________________________________________________________________________________\n",
      "downsampling_3_activation_1 (Ac (None, 152, 76, 128) 0           downsampling_3_batchnorm_1[0][0] \n",
      "__________________________________________________________________________________________________\n",
      "max_pooling2d_4 (MaxPooling2D)  (None, 76, 38, 128)  0           downsampling_3_activation_1[0][0]\n",
      "__________________________________________________________________________________________________\n",
      "bottleneck_skip_0 (Conv2D)      (None, 76, 38, 256)  295168      max_pooling2d_4[0][0]            \n",
      "__________________________________________________________________________________________________\n",
      "bottleneck_skip_1 (Conv2D)      (None, 76, 38, 256)  590080      bottleneck_skip_0[0][0]          \n",
      "__________________________________________________________________________________________________\n",
      "bottleneck_skip_2 (Conv2D)      (None, 76, 38, 256)  590080      bottleneck_skip_1[0][0]          \n",
      "__________________________________________________________________________________________________\n",
      "bottleneck_skip_3 (Conv2D)      (None, 76, 38, 256)  590080      bottleneck_skip_2[0][0]          \n",
      "__________________________________________________________________________________________________\n",
      "bottleneck_skip_4 (Conv2D)      (None, 76, 38, 256)  590080      bottleneck_skip_3[0][0]          \n",
      "__________________________________________________________________________________________________\n",
      "add_1 (Add)                     (None, 76, 38, 256)  0           bottleneck_skip_0[0][0]          \n",
      "                                                                 bottleneck_skip_1[0][0]          \n",
      "                                                                 bottleneck_skip_2[0][0]          \n",
      "                                                                 bottleneck_skip_3[0][0]          \n",
      "                                                                 bottleneck_skip_4[0][0]          \n",
      "__________________________________________________________________________________________________\n",
      "upsampling_0_conv_trans_0 (Conv (None, 152, 76, 128) 131200      add_1[0][0]                      \n",
      "__________________________________________________________________________________________________\n",
      "concatenate_1 (Concatenate)     (None, 152, 76, 256) 0           upsampling_0_conv_trans_0[0][0]  \n",
      "                                                                 downsampling_3_activation_1[0][0]\n",
      "__________________________________________________________________________________________________\n",
      "upsampling_0_conv_0 (Conv2D)    (None, 152, 76, 128) 295040      concatenate_1[0][0]              \n",
      "__________________________________________________________________________________________________\n",
      "upsampling_0_batchnorm_0 (Batch (None, 152, 76, 128) 512         upsampling_0_conv_0[0][0]        \n",
      "__________________________________________________________________________________________________\n",
      "upsampling_0_activation_0 (Acti (None, 152, 76, 128) 0           upsampling_0_batchnorm_0[0][0]   \n",
      "__________________________________________________________________________________________________\n",
      "upsampling_0_conv_1 (Conv2D)    (None, 152, 76, 128) 147584      upsampling_0_activation_0[0][0]  \n",
      "__________________________________________________________________________________________________\n",
      "upsampling_0_batchnorm_1 (Batch (None, 152, 76, 128) 512         upsampling_0_conv_1[0][0]        \n",
      "__________________________________________________________________________________________________\n",
      "upsampling_0_activation_1 (Acti (None, 152, 76, 128) 0           upsampling_0_batchnorm_1[0][0]   \n",
      "__________________________________________________________________________________________________\n",
      "upsampling_1_conv_trans_1 (Conv (None, 304, 152, 64) 32832       upsampling_0_activation_1[0][0]  \n",
      "__________________________________________________________________________________________________\n",
      "concatenate_2 (Concatenate)     (None, 304, 152, 128 0           upsampling_1_conv_trans_1[0][0]  \n",
      "                                                                 downsampling_2_activation_1[0][0]\n",
      "__________________________________________________________________________________________________\n",
      "upsampling_1_conv_0 (Conv2D)    (None, 304, 152, 64) 73792       concatenate_2[0][0]              \n",
      "__________________________________________________________________________________________________\n",
      "upsampling_1_batchnorm_0 (Batch (None, 304, 152, 64) 256         upsampling_1_conv_0[0][0]        \n",
      "__________________________________________________________________________________________________\n",
      "upsampling_1_activation_0 (Acti (None, 304, 152, 64) 0           upsampling_1_batchnorm_0[0][0]   \n",
      "__________________________________________________________________________________________________\n",
      "upsampling_1_conv_1 (Conv2D)    (None, 304, 152, 64) 36928       upsampling_1_activation_0[0][0]  \n",
      "__________________________________________________________________________________________________\n",
      "upsampling_1_batchnorm_1 (Batch (None, 304, 152, 64) 256         upsampling_1_conv_1[0][0]        \n",
      "__________________________________________________________________________________________________\n",
      "upsampling_1_activation_1 (Acti (None, 304, 152, 64) 0           upsampling_1_batchnorm_1[0][0]   \n",
      "__________________________________________________________________________________________________\n",
      "upsampling_2_conv_trans_2 (Conv (None, 608, 304, 32) 8224        upsampling_1_activation_1[0][0]  \n",
      "__________________________________________________________________________________________________\n",
      "concatenate_3 (Concatenate)     (None, 608, 304, 64) 0           upsampling_2_conv_trans_2[0][0]  \n",
      "                                                                 downsampling_1_activation_1[0][0]\n",
      "__________________________________________________________________________________________________\n",
      "upsampling_2_conv_0 (Conv2D)    (None, 608, 304, 32) 18464       concatenate_3[0][0]              \n",
      "__________________________________________________________________________________________________\n",
      "upsampling_2_batchnorm_0 (Batch (None, 608, 304, 32) 128         upsampling_2_conv_0[0][0]        \n",
      "__________________________________________________________________________________________________\n",
      "upsampling_2_activation_0 (Acti (None, 608, 304, 32) 0           upsampling_2_batchnorm_0[0][0]   \n",
      "__________________________________________________________________________________________________\n",
      "upsampling_2_conv_1 (Conv2D)    (None, 608, 304, 32) 9248        upsampling_2_activation_0[0][0]  \n",
      "__________________________________________________________________________________________________\n",
      "upsampling_2_batchnorm_1 (Batch (None, 608, 304, 32) 128         upsampling_2_conv_1[0][0]        \n",
      "__________________________________________________________________________________________________\n",
      "upsampling_2_activation_1 (Acti (None, 608, 304, 32) 0           upsampling_2_batchnorm_1[0][0]   \n",
      "__________________________________________________________________________________________________\n",
      "upsampling_3_conv_trans_3 (Conv (None, 1216, 608, 16 2064        upsampling_2_activation_1[0][0]  \n",
      "__________________________________________________________________________________________________\n",
      "concatenate_4 (Concatenate)     (None, 1216, 608, 32 0           upsampling_3_conv_trans_3[0][0]  \n",
      "                                                                 downsampling_0_activation_1[0][0]\n",
      "__________________________________________________________________________________________________\n",
      "upsampling_3_conv_0 (Conv2D)    (None, 1216, 608, 16 4624        concatenate_4[0][0]              \n",
      "__________________________________________________________________________________________________\n",
      "upsampling_3_batchnorm_0 (Batch (None, 1216, 608, 16 64          upsampling_3_conv_0[0][0]        \n",
      "__________________________________________________________________________________________________\n",
      "upsampling_3_activation_0 (Acti (None, 1216, 608, 16 0           upsampling_3_batchnorm_0[0][0]   \n",
      "__________________________________________________________________________________________________\n",
      "upsampling_3_conv_1 (Conv2D)    (None, 1216, 608, 16 2320        upsampling_3_activation_0[0][0]  \n",
      "__________________________________________________________________________________________________\n",
      "upsampling_3_batchnorm_1 (Batch (None, 1216, 608, 16 64          upsampling_3_conv_1[0][0]        \n",
      "__________________________________________________________________________________________________\n",
      "upsampling_3_activation_1 (Acti (None, 1216, 608, 16 0           upsampling_3_batchnorm_1[0][0]   \n",
      "__________________________________________________________________________________________________\n",
      "output_softmax (Conv2D)         (None, 1216, 608, 1) 17          upsampling_3_activation_1[0][0]  \n",
      "==================================================================================================\n",
      "Total params: 3,715,329\n",
      "Trainable params: 3,713,409\n",
      "Non-trainable params: 1,920\n",
      "__________________________________________________________________________________________________\n"
     ]
    }
   ],
   "source": [
    "model1.summary()"
   ]
  },
  {
   "cell_type": "code",
   "execution_count": null,
   "metadata": {},
   "outputs": [],
   "source": []
  }
 ],
 "metadata": {
  "kernelspec": {
   "display_name": "Python 3",
   "language": "python",
   "name": "python3"
  },
  "language_info": {
   "codemirror_mode": {
    "name": "ipython",
    "version": 3
   },
   "file_extension": ".py",
   "mimetype": "text/x-python",
   "name": "python",
   "nbconvert_exporter": "python",
   "pygments_lexer": "ipython3",
   "version": "3.7.3"
  }
 },
 "nbformat": 4,
 "nbformat_minor": 2
}
