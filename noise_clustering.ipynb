{
 "cells": [
  {
   "cell_type": "code",
   "execution_count": 1,
   "metadata": {},
   "outputs": [],
   "source": [
    "# datasetX, principle components U, the numbers of dimensions to reduce to k\n",
    "import time\n",
    "import numpy as np\n",
    "# sklearn are prohibited\n",
    "import os\n",
    "#import sklearn\n",
    "from scipy import misc\n",
    "import matplotlib.pyplot as plt\n",
    "import matplotlib.cm as cm\n",
    "import matplotlib.image as mpimg\n",
    "\n",
    "from sklearn.model_selection import train_test_split\n",
    "from sklearn.model_selection import GridSearchCV\n",
    "from sklearn.datasets import fetch_lfw_people\n",
    "from sklearn.metrics import classification_report\n",
    "from sklearn.metrics import confusion_matrix\n",
    "from sklearn.svm import SVC\n",
    "from PIL import Image\n",
    "import random\n",
    "\n",
    "from sklearn.cluster import KMeans"
   ]
  },
  {
   "cell_type": "markdown",
   "metadata": {},
   "source": [
    "error load image"
   ]
  },
  {
   "cell_type": "code",
   "execution_count": 2,
   "metadata": {},
   "outputs": [
    {
     "data": {
      "text/plain": [
       "53"
      ]
     },
     "execution_count": 2,
     "metadata": {},
     "output_type": "execute_result"
    }
   ],
   "source": [
    "error_image_foldpath = []\n",
    "error_image_foldpath.append('/home/chang_1909004/Documents/Inline_PL/PL/2019/04/01/1605_Emp') \n",
    "error_image_foldpath.append('/home/chang_1909004/Documents/Inline_PL/PL/2019/04/01/1611_Emp') \n",
    "# error_image_foldpath.append('/home/chang_1909004/Documents/Inline_PL/PL/2019/04/01/1627_Emp') \n",
    "# error_image_foldpath.append('/home/chang_1909004/Documents/Inline_PL/PL/2019/04/01/1658_Emp') \n",
    "# error_image_foldpath.append('/home/chang_1909004/Documents/Inline_PL/PL/2019/04/01/1707_Emp') \n",
    "# error_image_foldpath.append('/home/chang_1909004/Documents/Inline_PL/PL/2019/04/01/1717_Emp')\n",
    "# error_image_foldpath.append('/home/chang_1909004/Documents/Inline_PL/PL/2019/04/01/1727_Emp') \n",
    "# error_image_foldpath.append('/home/chang_1909004/Documents/Inline_PL/PL/2019/04/02/1157_Emp')\n",
    "# error_image_foldpath.append('/home/chang_1909004/Documents/Inline_PL/PL/2019/04/02/1421_Emp')\n",
    "# error_image_foldpath.append('/home/chang_1909004/Documents/Inline_PL/PL/2019/04/02/1431_Emp')\n",
    "# error_image_foldpath.append('/home/chang_1909004/Documents/Inline_PL/PL/2019/04/02/1443_Emp')\n",
    "# error_image_foldpath.append('/home/chang_1909004/Documents/Inline_PL/PL/2019/04/02/1658_Emp')\n",
    "# error_image_foldpath.append('/home/chang_1909004/Documents/Inline_PL/PL/2019/04/02/19402CAE')\n",
    "# error_image_foldpath.append('/home/chang_1909004/Documents/Inline_PL/PL/2019/04/03/1120_Emp')\n",
    "# error_image_foldpath.append('/home/chang_1909004/Documents/Inline_PL/PL/2019/04/03/1125_Emp')\n",
    "# error_image_foldpath.append('/home/chang_1909004/Documents/Inline_PL/PL/2019/04/03/1129_Emp')\n",
    "# error_image_foldpath.append('/home/chang_1909004/Documents/Inline_PL/PL/2019/04/03/1432_Emp')\n",
    "# error_image_foldpath.append('/home/chang_1909004/Documents/Inline_PL/PL/2019/04/03/1451_Emp')\n",
    "# error_image_foldpath.append('/home/chang_1909004/Documents/Inline_PL/PL/2019/04/03/1509_Emp')\n",
    "# error_image_foldpath.append('/home/chang_1909004/Documents/Inline_PL/PL/2019/04/08/1532_Emp')\n",
    "error_image_foldpath.append('/home/chang_1909004/Documents/Inline_PL/PL/2019/04/08/1541_Emp')\n",
    "# error_image_foldpath.append('/home/chang_1909004/Documents/Inline_PL/PL/2019/04/08/190410AB')\n",
    "# error_image_foldpath.append('/home/chang_1909004/Documents/Inline_PL/PL/2019/04/10/1552_Emp')\n",
    "error_image_foldpath.append('/home/chang_1909004/Documents/Inline_PL/PL/2019/04/10/19409IAP')\n",
    "#path = 'PL/2019/05/08/' #jpg\n",
    "#image= misc.imread(path + filenamelist[0], flatten= 0)\n",
    "\n",
    "error_image_path = []\n",
    "# r=root, d=directories, f = files\n",
    "for path in error_image_foldpath:\n",
    "    for r, d, f in os.walk(path):\n",
    "        for file in f:\n",
    "            if '.jpg' in file:\n",
    "                error_image_path.append(os.path.join(r, file))\n",
    "\n",
    "error_image_path.append('/home/chang_1909004/Documents/Inline_PL/PL/2019/04/10/19409EAP/4_A1M9NP0308.jpg')\n",
    "error_image_path.append('/home/chang_1909004/Documents/Inline_PL/PL/2019/04/10/19409EAP/6_A1M9NP0309.jpg')\n",
    "error_image_path.append('/home/chang_1909004/Documents/Inline_PL/PL/2019/04/10/19409EAP/8_A1M9NP0310.jpg')\n",
    "error_image_path.append('/home/chang_1909004/Documents/Inline_PL/PL/2019/04/10/19409EAP/10_A1M9NP0311.jpg')\n",
    "error_image_path.append('/home/chang_1909004/Documents/Inline_PL/PL/2019/04/10/19409EAP/12_A1M9NP0312.jpg')\n",
    "error_image_path.append('/home/chang_1909004/Documents/Inline_PL/PL/2019/04/10/19409EAP/14_A1M9NP0307.jpg')\n",
    "error_image_path.append('/home/chang_1909004/Documents/Inline_PL/PL/2019/04/10/19409EAP/16_A1M9NP0313.jpg')\n",
    "error_image_path.append('/home/chang_1909004/Documents/Inline_PL/PL/2019/04/10/19409EAP/18_A1M9NP0314.jpg')\n",
    "# error_image_path.append('/home/chang_1909004/Documents/Inline_PL/PL/2019/04/10/19409EAP/20_A1M9NP0315.jpg')\n",
    "# error_image_path.append('/home/chang_1909004/Documents/Inline_PL/PL/2019/04/10/19409EAP/22_A1M9NP0324.jpg')\n",
    "# error_image_path.append('/home/chang_1909004/Documents/Inline_PL/PL/2019/04/10/19409EAP/24_A1M9NP0317.jpg')\n",
    "# error_image_path.append('/home/chang_1909004/Documents/Inline_PL/PL/2019/04/10/19409EAP/26_A1M9NP0318.jpg')\n",
    "# error_image_path.append('/home/chang_1909004/Documents/Inline_PL/PL/2019/04/10/19409EAP/28_A1M9NP0320.jpg')\n",
    "# error_image_path.append('/home/chang_1909004/Documents/Inline_PL/PL/2019/04/10/19409EAP/30_A1M9NP0321.jpg')\n",
    "# error_image_path.append('/home/chang_1909004/Documents/Inline_PL/PL/2019/04/10/19409EAP/32_A1M9NP0316.jpg')\n",
    "# error_image_path.append('/home/chang_1909004/Documents/Inline_PL/PL/2019/04/10/19409EAP/34_A1M9NP0332.jpg')\n",
    "# error_image_path.append('/home/chang_1909004/Documents/Inline_PL/PL/2019/04/10/19409EAP/36_A1M9NP0323.jpg')\n",
    "# error_image_path.append('/home/chang_1909004/Documents/Inline_PL/PL/2019/04/10/19409EAP/38_A1M9NP0319.jpg')\n",
    "# error_image_path.append('/home/chang_1909004/Documents/Inline_PL/PL/2019/04/10/19409EAP/40_A1M9NP0326.jpg')\n",
    "# error_image_path.append('/home/chang_1909004/Documents/Inline_PL/PL/2019/04/10/19409EAP/42_A1M9NP0327.jpg')\n",
    "# error_image_path.append('/home/chang_1909004/Documents/Inline_PL/PL/2019/04/10/19409EAP/44_A1M9NP0322.jpg')\n",
    "# error_image_path.append('/home/chang_1909004/Documents/Inline_PL/PL/2019/04/10/19409EAP/46_A1M9NP0329.jpg')\n",
    "# error_image_path.append('/home/chang_1909004/Documents/Inline_PL/PL/2019/04/10/19409EAP/48_A1M9NP0330.jpg')\n",
    "# error_image_path.append('/home/chang_1909004/Documents/Inline_PL/PL/2019/04/10/19409EAP/50_A1M9NP0325.jpg')\n",
    "# error_image_path.append('/home/chang_1909004/Documents/Inline_PL/PL/2019/04/10/19409EAP/40_A1M9NP0326.jpg')\n",
    "# error_image_path.append('/home/chang_1909004/Documents/Inline_PL/PL/2019/04/10/19409EAP/40_A1M9NP0326.jpg')\n",
    "# error_image_path.append('/home/chang_1909004/Documents/Inline_PL/PL/2019/04/10/19409EAP/40_A1M9NP0326.jpg')\n",
    "len(error_image_path)"
   ]
  },
  {
   "cell_type": "markdown",
   "metadata": {},
   "source": [
    "normal load image"
   ]
  },
  {
   "cell_type": "code",
   "execution_count": 3,
   "metadata": {},
   "outputs": [
    {
     "data": {
      "text/plain": [
       "84"
      ]
     },
     "execution_count": 3,
     "metadata": {},
     "output_type": "execute_result"
    }
   ],
   "source": [
    "normal_image_foldpath = []\n",
    "normal_image_foldpath.append('/home/chang_1909004/Documents/Inline_PL/PL/2019/04/10/19409GBP')\n",
    "normal_image_foldpath.append('/home/chang_1909004/Documents/Inline_PL/PL/2019/04/10/19409CAE')\n",
    "normal_image_path = []\n",
    "# r=root, d=directories, f = files\n",
    "for path in normal_image_foldpath:\n",
    "    for r, d, f in os.walk(path):\n",
    "        for file in f:\n",
    "            if '.jpg' in file:\n",
    "                normal_image_path.append(os.path.join(r, file))\n",
    "                \n",
    "len(normal_image_path)"
   ]
  },
  {
   "cell_type": "code",
   "execution_count": 4,
   "metadata": {},
   "outputs": [],
   "source": [
    "image_path = error_image_path + normal_image_path"
   ]
  },
  {
   "cell_type": "code",
   "execution_count": 5,
   "metadata": {},
   "outputs": [
    {
     "data": {
      "text/plain": [
       "137"
      ]
     },
     "execution_count": 5,
     "metadata": {},
     "output_type": "execute_result"
    }
   ],
   "source": [
    "len(image_path)"
   ]
  },
  {
   "cell_type": "code",
   "execution_count": 6,
   "metadata": {},
   "outputs": [],
   "source": [
    "from multiprocessing import Pool\n",
    "\n",
    "def read_image(path_index):\n",
    "    image = mpimg.imread(image_path[path_index])\n",
    "    return image.flatten()\n",
    "\n",
    "p = Pool(processes=17)\n",
    "\n",
    "png_imagelist = p.map(read_image, range(len(image_path)))\n",
    "p.close()\n",
    "p.join()"
   ]
  },
  {
   "cell_type": "code",
   "execution_count": 7,
   "metadata": {},
   "outputs": [
    {
     "data": {
      "text/plain": [
       "137"
      ]
     },
     "execution_count": 7,
     "metadata": {},
     "output_type": "execute_result"
    }
   ],
   "source": [
    "len(png_imagelist)"
   ]
  },
  {
   "cell_type": "code",
   "execution_count": 8,
   "metadata": {},
   "outputs": [
    {
     "data": {
      "text/plain": [
       "(12024030,)"
      ]
     },
     "execution_count": 8,
     "metadata": {},
     "output_type": "execute_result"
    }
   ],
   "source": [
    "png_imagelist[0].shape"
   ]
  },
  {
   "cell_type": "code",
   "execution_count": 16,
   "metadata": {},
   "outputs": [],
   "source": [
    "for i in range(len(png_imagelist)):\n",
    "    plt.imsave(\"/media/chang_1909004/970pro/PL/137whole_clustering_input/\" + str(i) + \".jpg\", png_imagelist[i].reshape(mpimg.imread(image_path[0]).shape), cmap='gray')"
   ]
  },
  {
   "cell_type": "markdown",
   "metadata": {},
   "source": [
    "kmeans clustering"
   ]
  },
  {
   "cell_type": "code",
   "execution_count": 9,
   "metadata": {},
   "outputs": [],
   "source": [
    "from sklearn.cluster import KMeans"
   ]
  },
  {
   "cell_type": "code",
   "execution_count": 28,
   "metadata": {},
   "outputs": [
    {
     "data": {
      "text/plain": [
       "array([2, 2, 2, 0, 0, 0, 0, 0, 0, 0, 0, 0, 0, 0, 0, 0, 0, 0, 0, 0, 0, 0,\n",
       "       0, 0, 0, 0, 0, 0, 0, 0, 0, 0, 0, 0, 0, 0, 0, 0, 0, 0, 0, 0, 0, 0,\n",
       "       0, 0, 0, 0, 0, 0, 0, 1, 0, 1, 1, 1, 3, 3, 1, 3, 3, 1, 3, 1, 1, 3,\n",
       "       3, 3, 1, 1, 1, 3, 1, 1, 3, 1, 1, 3, 1, 1, 1, 1, 3, 1, 3, 1, 3, 1,\n",
       "       1, 1, 1, 1, 1, 1, 3, 3, 3, 3, 3, 3, 1, 1, 3, 1, 1, 3, 1, 3, 3, 1,\n",
       "       1, 3, 1, 3, 1, 3, 3, 1, 1, 3, 1, 3, 3, 1, 3, 1, 3, 3, 3, 3, 3, 1,\n",
       "       1, 3, 1, 1, 3], dtype=int32)"
      ]
     },
     "execution_count": 28,
     "metadata": {},
     "output_type": "execute_result"
    }
   ],
   "source": [
    "kmeans = KMeans(n_clusters=4, random_state=0).fit(png_imagelist)\n",
    "kmeans.labels_ "
   ]
  },
  {
   "cell_type": "code",
   "execution_count": 14,
   "metadata": {},
   "outputs": [
    {
     "data": {
      "text/plain": [
       "array([1, 1, 1, 0, 0, 0, 0, 0, 0, 0, 0, 0, 0, 0, 0, 0, 0, 0, 0, 0, 0, 0,\n",
       "       0, 0, 0, 0, 0, 0, 0, 0, 0, 0, 0, 0, 0, 0, 0, 0, 0, 0, 0, 0, 0, 0,\n",
       "       0, 0, 0, 0, 0, 0, 0, 2, 0, 2, 2, 2, 1, 2, 2, 2, 1, 2, 1, 2, 2, 2,\n",
       "       2, 1, 2, 2, 2, 1, 2, 2, 2, 2, 2, 1, 2, 2, 2, 2, 2, 2, 1, 2, 1, 2,\n",
       "       2, 2, 2, 2, 2, 2, 1, 1, 1, 1, 2, 1, 2, 2, 1, 2, 2, 1, 2, 1, 1, 2,\n",
       "       2, 2, 2, 1, 2, 2, 1, 2, 2, 2, 2, 1, 2, 2, 2, 2, 1, 1, 2, 1, 1, 2,\n",
       "       2, 1, 2, 2, 1], dtype=int32)"
      ]
     },
     "execution_count": 14,
     "metadata": {},
     "output_type": "execute_result"
    }
   ],
   "source": [
    "kmeans = KMeans(n_clusters=3, random_state=0).fit(png_imagelist)\n",
    "kmeans.labels_ "
   ]
  },
  {
   "cell_type": "code",
   "execution_count": 17,
   "metadata": {},
   "outputs": [
    {
     "data": {
      "text/plain": [
       "array([0, 0, 0, 1, 1, 1, 1, 1, 1, 1, 1, 1, 1, 1, 1, 1, 1, 1, 1, 1, 1, 1,\n",
       "       1, 1, 1, 1, 1, 1, 1, 1, 1, 1, 1, 1, 1, 1, 1, 1, 1, 1, 1, 1, 1, 1,\n",
       "       1, 1, 1, 1, 1, 1, 1, 1, 1, 0, 0, 0, 0, 0, 0, 0, 0, 0, 0, 0, 0, 0,\n",
       "       0, 0, 0, 0, 0, 0, 0, 0, 0, 0, 0, 0, 0, 0, 0, 0, 0, 0, 0, 0, 0, 0,\n",
       "       0, 0, 0, 0, 0, 0, 0, 0, 0, 0, 0, 0, 0, 0, 0, 0, 0, 0, 0, 0, 0, 0,\n",
       "       0, 0, 0, 0, 0, 0, 0, 0, 0, 0, 0, 0, 0, 0, 0, 0, 0, 0, 0, 0, 0, 0,\n",
       "       0, 0, 0, 0, 0], dtype=int32)"
      ]
     },
     "execution_count": 17,
     "metadata": {},
     "output_type": "execute_result"
    }
   ],
   "source": [
    "kmeans = KMeans(n_clusters=2, random_state=0).fit(png_imagelist)\n",
    "kmeans.labels_ "
   ]
  },
  {
   "cell_type": "markdown",
   "metadata": {},
   "source": [
    "from sklearn.cluster import AffinityPropagation"
   ]
  },
  {
   "cell_type": "code",
   "execution_count": 18,
   "metadata": {},
   "outputs": [
    {
     "data": {
      "text/plain": [
       "array([0, 0, 0, 1, 1, 2, 1, 2, 1, 1, 1, 1, 1, 1, 1, 1, 1, 1, 1, 1, 1, 1,\n",
       "       1, 1, 1, 1, 1, 2, 1, 2, 1, 1, 1, 1, 1, 1, 1, 1, 1, 1, 1, 1, 1, 2,\n",
       "       1, 2, 2, 2, 2, 2, 2, 2, 2, 4, 6, 6, 8, 3, 3, 3, 5, 6, 3, 4, 6, 8,\n",
       "       3, 3, 4, 4, 6, 5, 4, 4, 3, 7, 6, 3, 6, 3, 6, 4, 3, 6, 5, 8, 5, 3,\n",
       "       4, 6, 3, 8, 4, 6, 8, 5, 5, 5, 3, 5, 7, 7, 5, 7, 7, 5, 6, 5, 5, 7,\n",
       "       6, 3, 6, 3, 7, 8, 8, 6, 7, 8, 7, 5, 8, 8, 8, 8, 5, 5, 8, 5, 5, 7,\n",
       "       6, 5, 6, 8, 5])"
      ]
     },
     "execution_count": 18,
     "metadata": {},
     "output_type": "execute_result"
    }
   ],
   "source": [
    "from sklearn.cluster import AffinityPropagation\n",
    "\n",
    "clustering = AffinityPropagation().fit(png_imagelist)\n",
    "\n",
    "clustering.labels_"
   ]
  },
  {
   "cell_type": "markdown",
   "metadata": {},
   "source": [
    "MeanShift #memory error"
   ]
  },
  {
   "cell_type": "code",
   "execution_count": 19,
   "metadata": {},
   "outputs": [],
   "source": [
    "# from sklearn.cluster import MeanShift\n",
    "\n",
    "# clustering = MeanShift(bandwidth=2, n_jobs = -1).fit(png_imagelist)\n",
    "# clustering.labels_"
   ]
  },
  {
   "cell_type": "code",
   "execution_count": 20,
   "metadata": {},
   "outputs": [],
   "source": [
    "# from sklearn.cluster import MeanShift\n",
    "\n",
    "# clustering = MeanShift(bandwidth=3, n_jobs = -1).fit(png_imagelist)\n",
    "# clustering.labels_"
   ]
  },
  {
   "cell_type": "markdown",
   "metadata": {},
   "source": [
    "SpectralClustering"
   ]
  },
  {
   "cell_type": "code",
   "execution_count": 21,
   "metadata": {},
   "outputs": [
    {
     "name": "stderr",
     "output_type": "stream",
     "text": [
      "/home/chang_1909004/anaconda3/lib/python3.7/site-packages/sklearn/manifold/spectral_embedding_.py:235: UserWarning: Graph is not fully connected, spectral embedding may not work as expected.\n",
      "  warnings.warn(\"Graph is not fully connected, spectral embedding\"\n"
     ]
    },
    {
     "data": {
      "text/plain": [
       "array([1, 1, 1, 0, 1, 1, 1, 1, 0, 0, 1, 1, 0, 1, 0, 1, 1, 1, 1, 0, 0, 0,\n",
       "       0, 1, 0, 1, 0, 0, 0, 1, 1, 1, 1, 0, 1, 0, 1, 0, 0, 1, 0, 0, 1, 1,\n",
       "       0, 0, 0, 0, 1, 1, 1, 0, 1, 1, 0, 1, 0, 0, 0, 0, 1, 0, 1, 0, 1, 0,\n",
       "       1, 0, 0, 1, 0, 0, 0, 1, 0, 1, 1, 0, 1, 0, 0, 0, 0, 1, 0, 0, 1, 1,\n",
       "       0, 1, 0, 1, 1, 1, 1, 1, 0, 0, 1, 0, 0, 0, 0, 1, 1, 1, 0, 1, 1, 0,\n",
       "       0, 1, 0, 0, 0, 1, 0, 0, 0, 1, 1, 0, 0, 1, 1, 0, 0, 1, 1, 1, 0, 1,\n",
       "       1, 0, 0, 1, 1])"
      ]
     },
     "execution_count": 21,
     "metadata": {},
     "output_type": "execute_result"
    }
   ],
   "source": [
    "from sklearn.cluster import SpectralClustering\n",
    "\n",
    "clustering = SpectralClustering(n_clusters=2,\n",
    "        assign_labels=\"discretize\", n_jobs = -1,\n",
    "        random_state=0).fit(png_imagelist)\n",
    "clustering.labels_"
   ]
  },
  {
   "cell_type": "code",
   "execution_count": 22,
   "metadata": {},
   "outputs": [
    {
     "name": "stderr",
     "output_type": "stream",
     "text": [
      "/home/chang_1909004/anaconda3/lib/python3.7/site-packages/sklearn/manifold/spectral_embedding_.py:235: UserWarning: Graph is not fully connected, spectral embedding may not work as expected.\n",
      "  warnings.warn(\"Graph is not fully connected, spectral embedding\"\n"
     ]
    },
    {
     "data": {
      "text/plain": [
       "array([1, 0, 2, 0, 1, 2, 0, 2, 2, 1, 2, 1, 2, 0, 0, 2, 0, 1, 0, 0, 1, 2,\n",
       "       0, 2, 2, 0, 0, 1, 1, 0, 0, 2, 1, 1, 2, 0, 2, 1, 1, 1, 2, 0, 0, 1,\n",
       "       0, 2, 1, 1, 0, 0, 0, 0, 1, 1, 1, 0, 0, 1, 0, 2, 1, 1, 0, 2, 1, 0,\n",
       "       0, 2, 0, 0, 2, 0, 1, 0, 0, 2, 1, 0, 2, 2, 0, 2, 2, 1, 1, 0, 1, 2,\n",
       "       1, 0, 0, 0, 2, 1, 2, 2, 2, 1, 2, 1, 2, 2, 0, 2, 1, 1, 2, 1, 0, 2,\n",
       "       0, 2, 0, 1, 1, 2, 2, 1, 2, 0, 2, 0, 2, 1, 0, 1, 2, 2, 2, 1, 2, 1,\n",
       "       0, 2, 1, 1, 2])"
      ]
     },
     "execution_count": 22,
     "metadata": {},
     "output_type": "execute_result"
    }
   ],
   "source": [
    "from sklearn.cluster import SpectralClustering\n",
    "\n",
    "clustering = SpectralClustering(n_clusters=3,\n",
    "        assign_labels=\"discretize\", n_jobs = -1,\n",
    "        random_state=0).fit(png_imagelist)\n",
    "clustering.labels_"
   ]
  },
  {
   "cell_type": "markdown",
   "metadata": {},
   "source": [
    "AgglomerativeClustering"
   ]
  },
  {
   "cell_type": "code",
   "execution_count": 23,
   "metadata": {},
   "outputs": [
    {
     "data": {
      "text/plain": [
       "array([0, 0, 0, 1, 1, 1, 1, 1, 1, 1, 1, 1, 1, 1, 1, 1, 1, 1, 1, 1, 1, 1,\n",
       "       1, 1, 1, 1, 1, 1, 1, 1, 1, 1, 1, 1, 1, 1, 1, 1, 1, 1, 1, 1, 1, 1,\n",
       "       1, 1, 1, 1, 1, 1, 1, 1, 1, 0, 0, 0, 0, 0, 0, 0, 0, 0, 0, 0, 0, 0,\n",
       "       0, 0, 0, 0, 0, 0, 0, 0, 0, 0, 0, 0, 0, 0, 0, 0, 0, 0, 0, 0, 0, 0,\n",
       "       0, 0, 0, 0, 0, 0, 0, 0, 0, 0, 0, 0, 0, 0, 0, 0, 0, 0, 0, 0, 0, 0,\n",
       "       0, 0, 0, 0, 0, 0, 0, 0, 0, 0, 0, 0, 0, 0, 0, 0, 0, 0, 0, 0, 0, 0,\n",
       "       0, 0, 0, 0, 0])"
      ]
     },
     "execution_count": 23,
     "metadata": {},
     "output_type": "execute_result"
    }
   ],
   "source": [
    "from sklearn.cluster import AgglomerativeClustering\n",
    "import numpy as np\n",
    "\n",
    "clustering = AgglomerativeClustering(n_clusters=2).fit(png_imagelist)\n",
    "\n",
    "clustering.labels_"
   ]
  },
  {
   "cell_type": "code",
   "execution_count": 29,
   "metadata": {},
   "outputs": [
    {
     "data": {
      "text/plain": [
       "array([0, 0, 0, 1, 1, 1, 1, 1, 1, 1, 1, 1, 1, 1, 1, 1, 1, 1, 1, 1, 1, 1,\n",
       "       1, 1, 1, 1, 1, 1, 1, 1, 1, 1, 1, 1, 1, 1, 1, 1, 1, 1, 1, 1, 1, 1,\n",
       "       1, 1, 1, 1, 1, 1, 1, 1, 1, 2, 2, 2, 0, 2, 2, 2, 0, 2, 2, 2, 2, 0,\n",
       "       2, 0, 2, 2, 2, 0, 2, 2, 2, 2, 2, 2, 2, 2, 2, 2, 2, 2, 0, 0, 0, 2,\n",
       "       2, 2, 2, 2, 2, 2, 0, 0, 0, 0, 0, 0, 2, 2, 0, 2, 2, 0, 2, 0, 0, 2,\n",
       "       2, 0, 2, 0, 2, 2, 0, 2, 2, 2, 2, 0, 2, 2, 0, 2, 0, 0, 0, 0, 0, 2,\n",
       "       2, 0, 2, 2, 0])"
      ]
     },
     "execution_count": 29,
     "metadata": {},
     "output_type": "execute_result"
    }
   ],
   "source": [
    "from sklearn.cluster import AgglomerativeClustering\n",
    "import numpy as np\n",
    "\n",
    "clustering = AgglomerativeClustering(n_clusters=3).fit(png_imagelist)\n",
    "\n",
    "clustering.labels_"
   ]
  },
  {
   "cell_type": "markdown",
   "metadata": {},
   "source": [
    "DBSCAN"
   ]
  },
  {
   "cell_type": "code",
   "execution_count": 24,
   "metadata": {},
   "outputs": [
    {
     "data": {
      "text/plain": [
       "array([-1, -1, -1, -1, -1, -1, -1, -1, -1, -1, -1, -1, -1, -1, -1, -1, -1,\n",
       "       -1, -1, -1, -1, -1, -1, -1, -1, -1, -1, -1, -1, -1, -1, -1, -1, -1,\n",
       "       -1, -1, -1, -1, -1, -1, -1, -1, -1, -1, -1, -1, -1, -1, -1, -1, -1,\n",
       "       -1, -1, -1, -1, -1, -1, -1, -1, -1, -1, -1, -1, -1, -1, -1, -1, -1,\n",
       "       -1, -1, -1, -1, -1, -1, -1, -1, -1, -1, -1, -1, -1, -1, -1, -1, -1,\n",
       "       -1, -1, -1, -1, -1, -1, -1, -1, -1, -1, -1, -1, -1, -1, -1, -1, -1,\n",
       "       -1, -1, -1, -1, -1, -1, -1, -1, -1, -1, -1, -1, -1, -1, -1, -1, -1,\n",
       "       -1, -1, -1, -1, -1, -1, -1, -1, -1, -1, -1, -1, -1, -1, -1, -1, -1,\n",
       "       -1])"
      ]
     },
     "execution_count": 24,
     "metadata": {},
     "output_type": "execute_result"
    }
   ],
   "source": [
    "from sklearn.cluster import DBSCAN\n",
    "\n",
    "clustering = DBSCAN(eps=3, min_samples=2, n_jobs = -1).fit(png_imagelist)\n",
    "clustering.labels_"
   ]
  },
  {
   "cell_type": "markdown",
   "metadata": {},
   "source": [
    "OPTICS"
   ]
  },
  {
   "cell_type": "code",
   "execution_count": 25,
   "metadata": {},
   "outputs": [
    {
     "data": {
      "text/plain": [
       "array([ 0,  0,  0, -1, -1, -1, -1, -1, -1, -1, -1, -1, -1, -1, -1, -1, -1,\n",
       "       -1, -1, -1, -1, -1, -1, -1, -1, 16, -1, -1, -1, -1, -1, -1, -1, -1,\n",
       "       -1, -1, 15, -1, -1, -1, -1, -1, -1, 15, 16, 14, -1, 14, 14, 17, -1,\n",
       "       -1, 17, 13, 12, 12, -1, -1, -1, -1, -1, 12, -1, 13, 12, -1, -1, -1,\n",
       "       -1, 13, 12, -1, -1, -1, -1, 10, 12, -1, -1, -1, 12, 10, -1, -1, -1,\n",
       "       -1, -1, -1, -1, 12, -1, -1, 13, 12, -1, -1,  3,  2, -1,  2,  7,  9,\n",
       "       -1,  8,  7,  3, 11, -1,  3,  6, 11, -1, 11, -1,  6,  5,  4, -1,  9,\n",
       "        5,  7,  3, -1,  6,  4, -1,  1, -1,  4, -1, -1, -1, 11,  1,  8, -1,\n",
       "       -1])"
      ]
     },
     "execution_count": 25,
     "metadata": {},
     "output_type": "execute_result"
    }
   ],
   "source": [
    "from sklearn.cluster import OPTICS\n",
    "\n",
    "clustering = OPTICS(min_samples=2, n_jobs = -1).fit(png_imagelist)\n",
    "clustering.labels_"
   ]
  },
  {
   "cell_type": "markdown",
   "metadata": {},
   "source": [
    "Birch"
   ]
  },
  {
   "cell_type": "code",
   "execution_count": 26,
   "metadata": {},
   "outputs": [
    {
     "name": "stderr",
     "output_type": "stream",
     "text": [
      "/home/chang_1909004/anaconda3/lib/python3.7/site-packages/sklearn/cluster/birch.py:299: RuntimeWarning: overflow encountered in ubyte_scalars\n",
      "  new_ss = self.squared_sum_ + nominee_cluster.squared_sum_\n",
      "/home/chang_1909004/anaconda3/lib/python3.7/site-packages/sklearn/cluster/birch.py:627: ConvergenceWarning: Number of subclusters found (1) by Birch is less than (2). Decrease the threshold.\n",
      "  % (len(centroids), self.n_clusters), ConvergenceWarning)\n"
     ]
    },
    {
     "data": {
      "text/plain": [
       "array([0, 0, 0, 0, 0, 0, 0, 0, 0, 0, 0, 0, 0, 0, 0, 0, 0, 0, 0, 0, 0, 0,\n",
       "       0, 0, 0, 0, 0, 0, 0, 0, 0, 0, 0, 0, 0, 0, 0, 0, 0, 0, 0, 0, 0, 0,\n",
       "       0, 0, 0, 0, 0, 0, 0, 0, 0, 0, 0, 0, 0, 0, 0, 0, 0, 0, 0, 0, 0, 0,\n",
       "       0, 0, 0, 0, 0, 0, 0, 0, 0, 0, 0, 0, 0, 0, 0, 0, 0, 0, 0, 0, 0, 0,\n",
       "       0, 0, 0, 0, 0, 0, 0, 0, 0, 0, 0, 0, 0, 0, 0, 0, 0, 0, 0, 0, 0, 0,\n",
       "       0, 0, 0, 0, 0, 0, 0, 0, 0, 0, 0, 0, 0, 0, 0, 0, 0, 0, 0, 0, 0, 0,\n",
       "       0, 0, 0, 0, 0])"
      ]
     },
     "execution_count": 26,
     "metadata": {},
     "output_type": "execute_result"
    }
   ],
   "source": [
    "from sklearn.cluster import Birch\n",
    "\n",
    "brc = Birch(n_clusters=2)\n",
    "brc.fit(png_imagelist)\n",
    "brc.labels_"
   ]
  },
  {
   "cell_type": "code",
   "execution_count": 27,
   "metadata": {},
   "outputs": [
    {
     "name": "stderr",
     "output_type": "stream",
     "text": [
      "/home/chang_1909004/anaconda3/lib/python3.7/site-packages/sklearn/cluster/birch.py:299: RuntimeWarning: overflow encountered in ubyte_scalars\n",
      "  new_ss = self.squared_sum_ + nominee_cluster.squared_sum_\n",
      "/home/chang_1909004/anaconda3/lib/python3.7/site-packages/sklearn/cluster/birch.py:627: ConvergenceWarning: Number of subclusters found (1) by Birch is less than (3). Decrease the threshold.\n",
      "  % (len(centroids), self.n_clusters), ConvergenceWarning)\n"
     ]
    },
    {
     "data": {
      "text/plain": [
       "array([0, 0, 0, 0, 0, 0, 0, 0, 0, 0, 0, 0, 0, 0, 0, 0, 0, 0, 0, 0, 0, 0,\n",
       "       0, 0, 0, 0, 0, 0, 0, 0, 0, 0, 0, 0, 0, 0, 0, 0, 0, 0, 0, 0, 0, 0,\n",
       "       0, 0, 0, 0, 0, 0, 0, 0, 0, 0, 0, 0, 0, 0, 0, 0, 0, 0, 0, 0, 0, 0,\n",
       "       0, 0, 0, 0, 0, 0, 0, 0, 0, 0, 0, 0, 0, 0, 0, 0, 0, 0, 0, 0, 0, 0,\n",
       "       0, 0, 0, 0, 0, 0, 0, 0, 0, 0, 0, 0, 0, 0, 0, 0, 0, 0, 0, 0, 0, 0,\n",
       "       0, 0, 0, 0, 0, 0, 0, 0, 0, 0, 0, 0, 0, 0, 0, 0, 0, 0, 0, 0, 0, 0,\n",
       "       0, 0, 0, 0, 0])"
      ]
     },
     "execution_count": 27,
     "metadata": {},
     "output_type": "execute_result"
    }
   ],
   "source": [
    "from sklearn.cluster import Birch\n",
    "\n",
    "brc = Birch(n_clusters=3)\n",
    "brc.fit(png_imagelist)\n",
    "brc.labels_"
   ]
  },
  {
   "cell_type": "code",
   "execution_count": null,
   "metadata": {},
   "outputs": [],
   "source": []
  },
  {
   "cell_type": "code",
   "execution_count": null,
   "metadata": {},
   "outputs": [],
   "source": []
  },
  {
   "cell_type": "code",
   "execution_count": null,
   "metadata": {},
   "outputs": [],
   "source": []
  },
  {
   "cell_type": "code",
   "execution_count": null,
   "metadata": {},
   "outputs": [],
   "source": []
  },
  {
   "cell_type": "code",
   "execution_count": null,
   "metadata": {},
   "outputs": [],
   "source": []
  },
  {
   "cell_type": "code",
   "execution_count": null,
   "metadata": {},
   "outputs": [],
   "source": []
  },
  {
   "cell_type": "code",
   "execution_count": 55,
   "metadata": {},
   "outputs": [
    {
     "data": {
      "text/plain": [
       "0"
      ]
     },
     "execution_count": 55,
     "metadata": {},
     "output_type": "execute_result"
    }
   ],
   "source": [
    "kmeans.labels_[53]"
   ]
  },
  {
   "cell_type": "code",
   "execution_count": 46,
   "metadata": {},
   "outputs": [
    {
     "data": {
      "text/plain": [
       "137"
      ]
     },
     "execution_count": 46,
     "metadata": {},
     "output_type": "execute_result"
    }
   ],
   "source": [
    "len(png_imagelist)"
   ]
  },
  {
   "cell_type": "code",
   "execution_count": 49,
   "metadata": {},
   "outputs": [
    {
     "data": {
      "text/plain": [
       "(12024030,)"
      ]
     },
     "execution_count": 49,
     "metadata": {},
     "output_type": "execute_result"
    }
   ],
   "source": [
    "png_imagelist[0].shape"
   ]
  },
  {
   "cell_type": "code",
   "execution_count": null,
   "metadata": {},
   "outputs": [],
   "source": [
    "for i in range(len(png_imagelist)):\n",
    "    plt.imsave(\"/media/chang_1909004/970pro/PL/137whole_clustering_input/\" + str(i) + \".jpg\", png_imagelist[i].reshape(mpimg.imread(image_path[0]).shape), cmap='gray')"
   ]
  },
  {
   "cell_type": "code",
   "execution_count": 51,
   "metadata": {},
   "outputs": [
    {
     "data": {
      "text/plain": [
       "(2469, 4870)"
      ]
     },
     "execution_count": 51,
     "metadata": {},
     "output_type": "execute_result"
    }
   ],
   "source": [
    "mpimg.imread(image_path[0]).shape"
   ]
  },
  {
   "cell_type": "code",
   "execution_count": null,
   "metadata": {},
   "outputs": [],
   "source": [
    "kmeans.labels_\n",
    "\n"
   ]
  },
  {
   "cell_type": "code",
   "execution_count": null,
   "metadata": {},
   "outputs": [],
   "source": [
    "kmeans.predict([[0, 0], [12, 3]])\n",
    "\n"
   ]
  },
  {
   "cell_type": "code",
   "execution_count": null,
   "metadata": {},
   "outputs": [],
   "source": [
    "kmeans.cluster_centers_"
   ]
  },
  {
   "cell_type": "code",
   "execution_count": null,
   "metadata": {},
   "outputs": [],
   "source": []
  },
  {
   "cell_type": "code",
   "execution_count": null,
   "metadata": {},
   "outputs": [],
   "source": []
  }
 ],
 "metadata": {
  "kernelspec": {
   "display_name": "Python 3",
   "language": "python",
   "name": "python3"
  },
  "language_info": {
   "codemirror_mode": {
    "name": "ipython",
    "version": 3
   },
   "file_extension": ".py",
   "mimetype": "text/x-python",
   "name": "python",
   "nbconvert_exporter": "python",
   "pygments_lexer": "ipython3",
   "version": "3.7.3"
  }
 },
 "nbformat": 4,
 "nbformat_minor": 2
}
